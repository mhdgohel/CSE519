{
  "cells": [
    {
      "cell_type": "markdown",
      "id": "f041a859-2418-4649-a868-a4688c902166",
      "metadata": {
        "id": "f041a859-2418-4649-a868-a4688c902166"
      },
      "source": [
        "# General instructions for all labs\n",
        "\n",
        "1. To turn in:\n",
        " - this python notebook, filled out (2 pts)\n",
        " - a *standalone* PDF report that contains all the plots, and the answers to all the discussion questions (2 pts)\n",
        "\n",
        "2. Use of ChatGPT / CoPilot / etc:\n",
        "   - Allowed, but you own everything that is generated\n",
        "   - This means that any part of the solution can be asked in the quiz. It can be as detailed as \"What was the batch size you used in training\" or specific as \"what exactly does masking do in this case?\" Any discussion question is also game for a quiz question.\n",
        "   - If I find AI usage to be excessive. I can individually drag any of you in for a 1-1 meeting, in which I grill you on your code. If it looks like irresponsible copy/pasting, without proper understanding, I reserve the right to drastically lower your grade, or even submit cases to GGAC for ethical review.\n",
        "  \n",
        "3. Use of peer collaboration:\n",
        "   - In general not allowed. (Discussion / comparing answers is ok, but work on actual coding independently.)\n",
        "   - Exceptions can be made if you all wrote your own training script, but 1. it takes forever to train or 2. you don't have great compute resources. Then you can share a trained model amongst yourself *and declare it on your pdf*. However, the code for training *still must be written by yourself*\n",
        "     \n"
      ]
    },
    {
      "cell_type": "markdown",
      "id": "05def5e6-cb90-4b71-9d25-c38900e3ca72",
      "metadata": {
        "id": "05def5e6-cb90-4b71-9d25-c38900e3ca72"
      },
      "source": [
        "## **Lab 1 Overview**\n",
        "\n",
        "This lab explores how domain-specific training shapes NanoGPT’s internal representations and output behavior. You will train three separate *small* NanoGPT models on distinct, **tiny** corpora (each \\~50–200 KB of text):\n",
        "\n",
        "1. **Shakespeare corpus** – Short subset of public-domain plays.\n",
        "2. **Wikipedia corpus** – Small scraped/cleaned sample from open Wikipedia dumps.\n",
        "3. **Math textbook corpus** – Small public-domain math primer or textbook excerpt.\n",
        "\n",
        "By comparing these models across zero-shot and few-shot settings, you will observe how the same generative architecture adapts its “classification” over the vocabulary depending on the training distribution.\n",
        "\n",
        "\n",
        "## **Learning Outcomes**\n",
        "\n",
        "By the end of the lab, students should:\n",
        "\n",
        "1. Recognize that **generation is token-level classification**, and that domain-specific data shifts the learned classification boundaries.\n",
        "2. Understand **zero-shot vs. few-shot** generalization in the context of specialized generative models.\n",
        "3. Interpret **softmax confidence** and detect overconfidence/oversaturation phenomena.\n",
        "4. Apply **model interpretability tools** (Grad-CAM) to compare how domain training changes token importance.\n",
        "5. Connect all observations to **overfitting, evaluation metrics, and embeddings**.\n"
      ]
    },
    {
      "cell_type": "markdown",
      "id": "852b35d5-0e25-4a3c-9dfa-b9b156bd437c",
      "metadata": {
        "id": "852b35d5-0e25-4a3c-9dfa-b9b156bd437c"
      },
      "source": [
        "## **Part 1 – Training Domain-Specific Models**\n",
        "\n",
        "* Use the **same small NanoGPT config** (e.g., `n_layer=2`, `n_head=2`, `n_embd=128`, `block_size=64`) for all runs.\n",
        "* Train on CPU or free Colab GPU — each model should converge in minutes given the small corpora and reduced parameters.\n",
        "* Monitor:\n",
        "\n",
        "  * Training loss curves.\n",
        "  * Qualitative performance of generated samples.\n",
        "\n",
        "This section mostly requires you to run scripts that are already written. At each step, pay close attention to the comments, as you may be asked about them in the future."
      ]
    },
    {
      "cell_type": "code",
      "execution_count": null,
      "id": "b31a4a45-117c-4481-a59c-8eac4bc4c0ec",
      "metadata": {
        "id": "b31a4a45-117c-4481-a59c-8eac4bc4c0ec",
        "colab": {
          "base_uri": "https://localhost:8080/"
        },
        "outputId": "ff9c2afd-7637-400f-f45d-ef4484da887d"
      },
      "outputs": [
        {
          "output_type": "stream",
          "name": "stdout",
          "text": [
            "Corpus: math; Corpus length: 284987 characters\n",
            "Sample:\n",
            "/ /v >0 erf J <TT \n",
            "\n",
            "r \n",
            "/as QAfeJtedAf. \n",
            "\n",
            "\n",
            "\n",
            "CALCULUS MADE EASY \n",
            "\n",
            "\n",
            "\n",
            "J&cftfe \n",
            "\n",
            "\n",
            "\n",
            "THE MACMILLAN COMPANY \n",
            "\n",
            "NEW YORK • BOSTON . CHICAGO • DALLAS \n",
            "ATLANTA . SAN FRANCISCO \n",
            "\n",
            "MACMILLAN AND CO., Limited \n",
            "\n",
            "LONDON . BOMBAY . CALCUTTA . MADRAS \n",
            "MELBOURNE \n",
            "\n",
            "THE MACMILLAN COMPANY \n",
            "OF CANADA, Limited \n",
            "\n",
            "TORONTO \n",
            "\n",
            "\n",
            "\n",
            "\n",
            "...\n"
          ]
        }
      ],
      "source": [
        "import os, io, zipfile, requests\n",
        "from pathlib import Path\n",
        "\n",
        "# Choose the corpus\n",
        "corpus_name = \"math\"  # Change to \"shakespeare\", \"wikipedia\", or \"math\"\n",
        "\n",
        "# Reliable sources:\n",
        "# - shakespeare: Karpathy's tiny Shakespeare (plain text)\n",
        "# - wikipedia: https://www.kaggle.com/datasets/ffatty/plain-text-wikipedia-simpleenglish\n",
        "# - math: https://archive.org/stream/CalculusMadeEasy/Calculus_Made_Easy_Thompson_djvu.txt\n",
        "\n",
        "\n",
        "\n",
        "# Download and show sample\n",
        "\n",
        "\n",
        "text = Path(f\"data/{corpus_name}.txt\").read_text(encoding=\"utf-8\", errors=\"ignore\")\n",
        "print(f\"Corpus: {corpus_name}; Corpus length: {len(text)} characters\")\n",
        "print(\"Sample:\")\n",
        "print(text[:300])\n",
        "print(\"...\")\n",
        "\n",
        "\n"
      ]
    },
    {
      "cell_type": "code",
      "execution_count": null,
      "id": "875b64e8-d63f-41c6-a49a-be1fb0e7812a",
      "metadata": {
        "id": "875b64e8-d63f-41c6-a49a-be1fb0e7812a"
      },
      "outputs": [],
      "source": [
        "# -----------------------------------------\n",
        "# Prepare dataset for character-level modeling\n",
        "# -----------------------------------------\n",
        "\n",
        "import torch\n",
        "from torch.utils.data import Dataset, DataLoader\n",
        "from pathlib import Path\n",
        "from torch.utils.data import DataLoader\n",
        "\n",
        "class CharDataset(Dataset):\n",
        "    def __init__(self, text, block_size, stoi=None, itos=None):\n",
        "        \"\"\"\n",
        "        text: The raw text string we want to train on.\n",
        "        block_size: The length of each training sequence (number of characters).\n",
        "        stoi, itos: Optional vocab mappings. If provided, reuse them.\n",
        "        \"\"\"\n",
        "\n",
        "        self.text=text\n",
        "        # 1. Build or reuse the vocabulary\n",
        "        if stoi is None or itos is None:\n",
        "            # Build from scratch\n",
        "            self.chars = sorted(list(set(text)))\n",
        "            self.vocab_size = len(self.chars)\n",
        "            self.stoi = {ch: i for i, ch in enumerate(self.chars)}\n",
        "            self.itos = {i: ch for i, ch in enumerate(self.chars)}\n",
        "        else:\n",
        "            # Reuse given vocab\n",
        "            self.stoi = stoi\n",
        "            self.itos = itos\n",
        "            self.vocab_size = len(self.stoi)\n",
        "\n",
        "        # 2. Store sequence length\n",
        "        self.block_size = block_size\n",
        "\n",
        "        # 3. Encode dataset into indices\n",
        "        #    Use .get(ch, 0) so unknown characters map to 0\n",
        "        self.data = torch.tensor([self.stoi.get(c, 0) for c in text], dtype=torch.long)\n",
        "\n",
        "    def __len__(self):\n",
        "        return len(self.data) - self.block_size\n",
        "\n",
        "    def __getitem__(self, idx):\n",
        "        chunk = self.data[idx : idx + self.block_size + 1]\n",
        "        x = chunk[:-1]\n",
        "        y = chunk[1:]\n",
        "        return x, y\n",
        "\n",
        "\n",
        "block_size = 64\n",
        "\n",
        "text = Path(f\"data/math.txt\").read_text(encoding=\"utf-8\", errors=\"ignore\")\n",
        "dataset = CharDataset(text, block_size=block_size, stoi=None, itos=None)\n",
        "\n",
        "\n"
      ]
    },
    {
      "cell_type": "markdown",
      "id": "83b142c8-03a5-44d3-9d64-fbe144992322",
      "metadata": {
        "id": "83b142c8-03a5-44d3-9d64-fbe144992322"
      },
      "source": [
        "\n",
        "## Analysis: Character Frequency Histogram\n",
        "\n",
        "Visualize the differences in vocabulary and character usage between corpora (`shakespeare`, `wikipedia`, `math`). Do this by creating a histogram of each character's frequency of occurance, for each corpora.\n",
        "  \n",
        "Unicode safety\n",
        "\n",
        "   * Some characters may not render properly in plots or Jupyter.\n",
        "   * Replace problematic characters with their Unicode code point.\n",
        "   * Example helper function:\n",
        "\n",
        "     ```python\n",
        "     def safe_label(c):\n",
        "         try:\n",
        "             c.encode(\"ascii\")  # check if ASCII-printable\n",
        "             return c\n",
        "         except UnicodeEncodeError:\n",
        "             return f\"U+{ord(c):04X}\"\n",
        "     ```\n",
        "\n",
        "\n",
        "   * Generate one histogram for each corpus (`shakespeare`, `wikipedia`, `math`).\n",
        "   * For each corpus, write **1–2 sentences** describing:\n",
        "\n",
        "     * Which characters are most common.\n",
        "     * Any unusual symbols or formatting.\n",
        "     * How the distributation of the corpus represents a distribution of a more general language model, e.g. one learned by ChatGPT.\n",
        "\n"
      ]
    },
    {
      "cell_type": "code",
      "source": [
        "import matplotlib.pyplot as plt\n",
        "from collections import Counter\n",
        "import plotly.express as px\n",
        "plt.rcParams[\"font.family\"] = \"DejaVu Sans\"\n",
        "\n",
        "unique_text = dataset.chars\n",
        "text_size = dataset.vocab_size\n",
        "counts = Counter(text)\n",
        "top_80 = counts.most_common(80)\n",
        "labels, values = zip(*top_80)\n",
        "labels = [repr(label) for label in labels]\n",
        "plt.figure(figsize=(15, 8))\n",
        "plt.bar(labels, values, color=\"skyblue\", edgecolor=\"black\")\n",
        "plt.xlabel(\"Characters\")\n",
        "plt.ylabel(\"Frequency\")\n",
        "plt.title(\"Math\")\n",
        "plt.show()\n"
      ],
      "metadata": {
        "colab": {
          "base_uri": "https://localhost:8080/",
          "height": 569
        },
        "id": "98c8ojQwy9O8",
        "outputId": "a5fe2e82-10ad-4376-9fee-54c97383bfd9"
      },
      "id": "98c8ojQwy9O8",
      "execution_count": null,
      "outputs": [
        {
          "output_type": "display_data",
          "data": {
            "text/plain": [
              "<Figure size 1500x800 with 1 Axes>"
            ],
            "image/png": "[encoded data removed]"
          },
          "metadata": {}
        }
      ]
    },
    {
      "cell_type": "code",
      "source": [
        "from google.colab import drive\n",
        "drive.mount('/content/drive')\n",
        "import sys\n",
        "sys.path.append(\"/content/drive/MyDrive/\")"
      ],
      "metadata": {
        "colab": {
          "base_uri": "https://localhost:8080/"
        },
        "id": "fTyM_kLXiEnC",
        "outputId": "930014a8-0ec4-43f1-f975-e4dbda07a0b4"
      },
      "id": "fTyM_kLXiEnC",
      "execution_count": null,
      "outputs": [
        {
          "output_type": "stream",
          "name": "stdout",
          "text": [
            "Mounted at /content/drive\n"
          ]
        }
      ]
    },
    {
      "cell_type": "code",
      "execution_count": null,
      "id": "61374b77-65dd-45e8-8332-8edbb38fd321",
      "metadata": {
        "id": "61374b77-65dd-45e8-8332-8edbb38fd321",
        "colab": {
          "base_uri": "https://localhost:8080/"
        },
        "outputId": "169e0e25-7559-4600-f1b4-ddc7f8ded459"
      },
      "outputs": [
        {
          "output_type": "stream",
          "name": "stdout",
          "text": [
            "number of parameters: 0.41M\n",
            "GPT(\n",
            "  (transformer): ModuleDict(\n",
            "    (wte): Embedding(110, 128)\n",
            "    (wpe): Embedding(64, 128)\n",
            "    (drop): Dropout(p=0.0, inplace=False)\n",
            "    (h): ModuleList(\n",
            "      (0-1): 2 x Block(\n",
            "        (ln_1): LayerNorm()\n",
            "        (attn): CausalSelfAttention(\n",
            "          (c_attn): Linear(in_features=128, out_features=384, bias=True)\n",
            "          (c_proj): Linear(in_features=128, out_features=128, bias=True)\n",
            "          (attn_dropout): Dropout(p=0.0, inplace=False)\n",
            "          (resid_dropout): Dropout(p=0.0, inplace=False)\n",
            "        )\n",
            "        (ln_2): LayerNorm()\n",
            "        (mlp): MLP(\n",
            "          (c_fc): Linear(in_features=128, out_features=512, bias=True)\n",
            "          (gelu): GELU(approximate='none')\n",
            "          (c_proj): Linear(in_features=512, out_features=128, bias=True)\n",
            "          (dropout): Dropout(p=0.0, inplace=False)\n",
            "        )\n",
            "      )\n",
            "    )\n",
            "    (ln_f): LayerNorm()\n",
            "  )\n",
            "  (lm_head): Linear(in_features=128, out_features=110, bias=False)\n",
            ")\n"
          ]
        }
      ],
      "source": [
        "from nanogpt_model import GPT  # Import the GPT model class from the NanoGPT repo\n",
        "\n",
        "\n",
        "# -----------------------------------------\n",
        "# Define a configuration object for the GPT model\n",
        "# -----------------------------------------\n",
        "class GPTConfig:\n",
        "    def __init__(self, vocab_size, block_size,\n",
        "                 n_layer=2, n_head=2, n_embd=128, dropout=0.0, bias = True):\n",
        "        \"\"\"\n",
        "        This class is a container for all the key hyperparameters\n",
        "        that define the size and shape of the GPT model.\n",
        "        We pass this config into the GPT constructor so the model\n",
        "        can be built with these exact settings.\n",
        "\n",
        "        ---------------------------\n",
        "        Parameter meanings:\n",
        "        ---------------------------\n",
        "\n",
        "        vocab_size:\n",
        "            - Number of unique tokens in our dataset.\n",
        "            - In a character-level model, this is the number of distinct characters.\n",
        "            - Maps directly to the size of the token embedding matrix:\n",
        "                token_embedding_table.shape == (vocab_size, n_embd)\n",
        "\n",
        "        block_size:\n",
        "            - Maximum context length (sequence length) the model sees at once.\n",
        "            - Sets the width of the positional embedding table:\n",
        "                position_embedding_table.shape == (block_size, n_embd)\n",
        "            - Also defines the mask size in self-attention so the model only attends\n",
        "              to the last `block_size` tokens.\n",
        "\n",
        "        n_layer:\n",
        "            - Number of Transformer blocks stacked in the model.\n",
        "            - Each block = (Multi-Head Self-Attention + Feedforward MLP + LayerNorm).\n",
        "            - More layers allow the model to capture more complex dependencies.\n",
        "\n",
        "        n_head:\n",
        "            - Number of attention heads per multi-head attention layer.\n",
        "            - Each head learns to focus on different positions/tokens in the sequence.\n",
        "            - Heads are concatenated then projected back into `n_embd` dimensions.\n",
        "\n",
        "        n_embd:\n",
        "            - Dimensionality of token embeddings and all hidden states.\n",
        "            - Controls the \"width\" of the model.\n",
        "            - Affects:\n",
        "                * Token embedding size\n",
        "                * Positional embedding size\n",
        "                * Per-head dimension in attention: head_dim = n_embd / n_head\n",
        "                * Hidden size of the feedforward layers in each block.\n",
        "\n",
        "        dropout:\n",
        "            - Dropout probability applied in various places (attention, MLP) during training.\n",
        "            - Helps prevent overfitting by randomly zeroing activations.\n",
        "\n",
        "        \"\"\"\n",
        "\n",
        "        # Store all parameters for use by the GPT class\n",
        "        self.vocab_size = vocab_size\n",
        "        self.block_size = block_size\n",
        "        self.n_layer = n_layer\n",
        "        self.n_head = n_head\n",
        "        self.n_embd = n_embd\n",
        "        self.dropout = dropout\n",
        "        self.bias = bias\n",
        "\n",
        "\n",
        "config = GPTConfig(vocab_size=dataset.vocab_size, block_size=block_size)\n",
        "model = GPT(config)\n",
        "print(model)\n",
        "\n"
      ]
    },
    {
      "cell_type": "markdown",
      "id": "1907ec6d-eb79-4bcf-9c82-60c7edda4dc1",
      "metadata": {
        "id": "1907ec6d-eb79-4bcf-9c82-60c7edda4dc1"
      },
      "source": [
        "\n",
        "\n",
        "## Analysis: Model Architecture Diagram\n",
        "\n",
        "Create a clear, labeled diagram of the NanoGPT model you trained, showing the **flow of data** from input to output, including the **shapes/dimensions** at each stage. Do this *by hand*. You may use a tablet, but it cannot look code-generated.\n",
        "\n",
        "\n",
        "1. **Overall Layout**\n",
        "\n",
        "   * Show the full pipeline:\n",
        "     **Input Tokens → Token Embedding → Positional Embedding → Transformer Blocks → LayerNorm → Output Head → Softmax**.\n",
        "\n",
        "2. **Transformer Blocks**\n",
        "\n",
        "   * Each block should include:\n",
        "\n",
        "     * **LayerNorm 1 → Multi-Head Causal Self-Attention → Residual Connection**\n",
        "     * **LayerNorm 2 → Feedforward MLP → Residual Connection**\n",
        "   * Clearly label these sub-components and indicate that this block repeats `n_layer` times.\n",
        "\n",
        "3. **Dimensions**\n",
        "\n",
        "   * Label the **shape** of the tensor at each stage (batch size = `B`, sequence length = `T`, embedding size = `n_embd`):\n",
        "\n",
        "     * Input: `(B, T)` (integer token IDs)\n",
        "     * Token embeddings: `(B, T, n_embd)`\n",
        "     * After adding positional embeddings: `(B, T, n_embd)`\n",
        "     * Inside attention: queries/keys/values → `(B, n_head, T, head_dim)`\n",
        "     * MLP layers: `(B, T, 4*n_embd)` then back to `(B, T, n_embd)`\n",
        "     * Output logits: `(B, T, vocab_size)`\n",
        "\n",
        "4. **Connections**\n",
        "\n",
        "   * Draw arrows between each component to show the data flow.\n",
        "   * Mark residual connections that add the block’s input to its output.\n",
        "\n",
        "5. **Label Hyperparameters**\n",
        "\n",
        "   * Include:\n",
        "\n",
        "     * `n_layer` = number of transformer blocks\n",
        "     * `n_head` = number of attention heads per block\n",
        "     * `n_embd` = embedding dimension\n",
        "     * `block_size` = maximum context length\n",
        "     * `vocab_size` = size of the token vocabulary\n",
        "\n",
        "6. **Final Output**\n",
        "\n",
        "   * Show that the model outputs logits for each token position, then a softmax over the vocabulary to get probabilities.\n",
        "\n",
        "\n"
      ]
    },
    {
      "cell_type": "code",
      "source": [
        "import torch\n",
        "import torch.nn.functional as F\n",
        "\n",
        "def inspect_model_flow(model, prompt, stoi, max_len=20):\n",
        "    \"\"\"\n",
        "    Inspect the flow of tensors inside GPT model for a given prompt.\n",
        "    Prints out shapes for each stage.\n",
        "    \"\"\"\n",
        "    # Encode prompt into tensor\n",
        "    x = torch.tensor([stoi.get(c, 0) for c in prompt], dtype=torch.long)[None, :]  # [B, T]\n",
        "    print(f\"\\n=== Inspecting prompt: {repr(prompt)} ===\")\n",
        "    print(f\"Input tokens shape: {x.shape}\")\n",
        "\n",
        "    hooks = []\n",
        "\n",
        "    def make_hook(name):\n",
        "        def hook(module, inp, out):\n",
        "            if isinstance(out, torch.Tensor):\n",
        "                print(f\"{name}: {tuple(out.shape)}\")\n",
        "            elif isinstance(out, (list, tuple)):\n",
        "                shapes = [tuple(o.shape) for o in out if isinstance(o, torch.Tensor)]\n",
        "                print(f\"{name}: {shapes}\")\n",
        "            else:\n",
        "                print(f\"{name}: {type(out)}\")\n",
        "        return hook\n",
        "\n",
        "    # Register hooks\n",
        "    hooks.append(model.transformer.wte.register_forward_hook(make_hook(\"Token Embedding\")))\n",
        "    hooks.append(model.transformer.wpe.register_forward_hook(make_hook(\"Positional Embedding\")))\n",
        "    for i, block in enumerate(model.transformer.h):\n",
        "        hooks.append(block.register_forward_hook(make_hook(f\"Transformer Block {i}\")))\n",
        "    hooks.append(model.transformer.ln_f.register_forward_hook(make_hook(\"LayerNorm\")))\n",
        "    hooks.append(model.lm_head.register_forward_hook(make_hook(\"Output Head\")))\n",
        "\n",
        "    # Forward pass\n",
        "    with torch.no_grad():\n",
        "        logits, _ = model(x)\n",
        "\n",
        "    print(\"Softmax:\", tuple(F.softmax(logits, dim=-1).shape))\n",
        "\n",
        "    # Remove hooks\n",
        "    for h in hooks:\n",
        "        h.remove()\n"
      ],
      "metadata": {
        "id": "zEtQ22fX9Ci1"
      },
      "id": "zEtQ22fX9Ci1",
      "execution_count": null,
      "outputs": []
    },
    {
      "cell_type": "code",
      "source": [
        "ckpt = torch.load(\"drive/MyDrive/checkpoints/math/iter_5000.pt\", map_location=\"cpu\")\n",
        "stoi, itos = ckpt[\"stoi\"], ckpt[\"itos\"]\n",
        "vocab_size = len(stoi)\n",
        "\n",
        "config = GPTConfig(vocab_size=vocab_size,block_size=64)\n",
        "model = GPT(config)\n",
        "model.load_state_dict(ckpt[\"model_state\"])\n",
        "model.eval()\n",
        "\n",
        "inspect_model_flow(model, \"hello\", stoi)\n"
      ],
      "metadata": {
        "id": "rfDSbxTT9GLZ",
        "colab": {
          "base_uri": "https://localhost:8080/"
        },
        "outputId": "e0d9980a-dec9-499e-eff4-dcfba2334d4a"
      },
      "id": "rfDSbxTT9GLZ",
      "execution_count": null,
      "outputs": [
        {
          "output_type": "stream",
          "name": "stdout",
          "text": [
            "number of parameters: 0.41M\n",
            "\n",
            "=== Inspecting prompt: 'hello' ===\n",
            "Input tokens shape: torch.Size([1, 5])\n",
            "Token Embedding: (1, 5, 128)\n",
            "Positional Embedding: (5, 128)\n",
            "Transformer Block 0: (1, 5, 128)\n",
            "Transformer Block 1: (1, 5, 128)\n",
            "LayerNorm: (1, 5, 128)\n",
            "Output Head: (1, 1, 110)\n",
            "Softmax: (1, 1, 110)\n"
          ]
        }
      ]
    },
    {
      "cell_type": "code",
      "source": [
        "ckpt = torch.load(\"drive/MyDrive/checkpoints/wikipedia/iter_5000.pt\", map_location=\"cpu\")\n",
        "stoi, itos = ckpt[\"stoi\"], ckpt[\"itos\"]\n",
        "vocab_size = len(stoi)\n",
        "\n",
        "config = GPTConfig(vocab_size=vocab_size,block_size=64)\n",
        "model = GPT(config)\n",
        "model.load_state_dict(ckpt[\"model_state\"])\n",
        "model.eval()\n",
        "\n",
        "inspect_model_flow(model, \"hello\", stoi)"
      ],
      "metadata": {
        "colab": {
          "base_uri": "https://localhost:8080/"
        },
        "id": "0BizHKcQCiON",
        "outputId": "d47ebe66-d8e0-47b9-9503-843b0ff21206"
      },
      "id": "0BizHKcQCiON",
      "execution_count": null,
      "outputs": [
        {
          "output_type": "stream",
          "name": "stdout",
          "text": [
            "number of parameters: 0.43M\n",
            "\n",
            "=== Inspecting prompt: 'hello' ===\n",
            "Input tokens shape: torch.Size([1, 5])\n",
            "Token Embedding: (1, 5, 128)\n",
            "Positional Embedding: (5, 128)\n",
            "Transformer Block 0: (1, 5, 128)\n",
            "Transformer Block 1: (1, 5, 128)\n",
            "LayerNorm: (1, 5, 128)\n",
            "Output Head: (1, 1, 292)\n",
            "Softmax: (1, 1, 292)\n"
          ]
        }
      ]
    },
    {
      "cell_type": "code",
      "source": [
        "ckpt = torch.load(\"drive/MyDrive/checkpoints/shakespeare/iter_5000.pt\", map_location=\"cpu\")\n",
        "stoi, itos = ckpt[\"stoi\"], ckpt[\"itos\"]\n",
        "vocab_size = len(stoi)\n",
        "\n",
        "config = GPTConfig(vocab_size=vocab_size,block_size=64)\n",
        "model = GPT(config)\n",
        "model.load_state_dict(ckpt[\"model_state\"])\n",
        "model.eval()\n",
        "\n",
        "inspect_model_flow(model, \"hello\", stoi)"
      ],
      "metadata": {
        "colab": {
          "base_uri": "https://localhost:8080/"
        },
        "id": "0zyjNIP3CijP",
        "outputId": "921b9dfb-239b-40e6-bee3-5d1c24fd9e54"
      },
      "id": "0zyjNIP3CijP",
      "execution_count": null,
      "outputs": [
        {
          "output_type": "stream",
          "name": "stdout",
          "text": [
            "number of parameters: 0.41M\n",
            "\n",
            "=== Inspecting prompt: 'hello' ===\n",
            "Input tokens shape: torch.Size([1, 5])\n",
            "Token Embedding: (1, 5, 128)\n",
            "Positional Embedding: (5, 128)\n",
            "Transformer Block 0: (1, 5, 128)\n",
            "Transformer Block 1: (1, 5, 128)\n",
            "LayerNorm: (1, 5, 128)\n",
            "Output Head: (1, 1, 65)\n",
            "Softmax: (1, 1, 65)\n"
          ]
        }
      ]
    },
    {
      "cell_type": "markdown",
      "id": "ad171451-66fc-4aa2-8cb8-4394324a18df",
      "metadata": {
        "id": "ad171451-66fc-4aa2-8cb8-4394324a18df"
      },
      "source": [
        "\n",
        "\n",
        "## Training NanoGPT\n",
        "\n",
        "The following code actually **trains NanoGPT** on your selected dataset.\n",
        "Your job is to:\n",
        "\n",
        "1. **Play around with the hyperparameters** (e.g. learning rate, batch size, context length, number of layers).\n",
        "2. **Run the training loop** long enough to get meaningful results.\n",
        "3. **Save a trained checkpoint for each of the three corpora** (`shakespeare`, `wikipedia`, `math`).\n",
        "\n",
        "After training:\n",
        "\n",
        "* You should have a folder of checkpoints (e.g. `checkpoints/shakespeare/final.pt`).\n",
        "* Each corpus will give you a slightly different “voice” when you generate text.\n"
      ]
    },
    {
      "cell_type": "code",
      "execution_count": null,
      "id": "111e4182-8208-469c-90c1-593cdf96f36f",
      "metadata": {
        "id": "111e4182-8208-469c-90c1-593cdf96f36f",
        "colab": {
          "base_uri": "https://localhost:8080/"
        },
        "outputId": "a5d68cdc-8fba-44c8-cd47-4a2ff4570f81"
      },
      "outputs": [
        {
          "output_type": "stream",
          "name": "stdout",
          "text": [
            "No checkpoint found for 'math', starting training...\n",
            "Iter 0/5000, Avg Loss over dataset: 4.2223\n",
            "Saved checkpoint: checkpoints/math/iter_0.pt\n",
            "Iter 100/5000, Avg Loss over dataset: 2.6013\n",
            "Saved checkpoint: checkpoints/math/iter_100.pt\n",
            "Iter 200/5000, Avg Loss over dataset: 2.4111\n",
            "Saved checkpoint: checkpoints/math/iter_200.pt\n",
            "Iter 300/5000, Avg Loss over dataset: 2.2535\n",
            "Saved checkpoint: checkpoints/math/iter_300.pt\n",
            "Iter 400/5000, Avg Loss over dataset: 2.1061\n",
            "Saved checkpoint: checkpoints/math/iter_400.pt\n",
            "Iter 500/5000, Avg Loss over dataset: 1.9912\n",
            "Saved checkpoint: checkpoints/math/iter_500.pt\n",
            "Iter 600/5000, Avg Loss over dataset: 1.9108\n",
            "Saved checkpoint: checkpoints/math/iter_600.pt\n",
            "Iter 700/5000, Avg Loss over dataset: 1.8426\n",
            "Saved checkpoint: checkpoints/math/iter_700.pt\n",
            "Iter 800/5000, Avg Loss over dataset: 1.7977\n",
            "Saved checkpoint: checkpoints/math/iter_800.pt\n",
            "Iter 900/5000, Avg Loss over dataset: 1.7658\n",
            "Saved checkpoint: checkpoints/math/iter_900.pt\n",
            "Iter 1000/5000, Avg Loss over dataset: 1.7164\n",
            "Saved checkpoint: checkpoints/math/iter_1000.pt\n",
            "Iter 1100/5000, Avg Loss over dataset: 1.6828\n",
            "Saved checkpoint: checkpoints/math/iter_1100.pt\n",
            "Iter 1200/5000, Avg Loss over dataset: 1.6506\n",
            "Saved checkpoint: checkpoints/math/iter_1200.pt\n",
            "Iter 1300/5000, Avg Loss over dataset: 1.6269\n",
            "Saved checkpoint: checkpoints/math/iter_1300.pt\n",
            "Iter 1400/5000, Avg Loss over dataset: 1.5936\n",
            "Saved checkpoint: checkpoints/math/iter_1400.pt\n",
            "Iter 1500/5000, Avg Loss over dataset: 1.5815\n",
            "Saved checkpoint: checkpoints/math/iter_1500.pt\n",
            "Iter 1600/5000, Avg Loss over dataset: 1.5614\n",
            "Saved checkpoint: checkpoints/math/iter_1600.pt\n",
            "Iter 1700/5000, Avg Loss over dataset: 1.5326\n",
            "Saved checkpoint: checkpoints/math/iter_1700.pt\n",
            "Iter 1800/5000, Avg Loss over dataset: 1.5265\n",
            "Saved checkpoint: checkpoints/math/iter_1800.pt\n",
            "Iter 1900/5000, Avg Loss over dataset: 1.5138\n",
            "Saved checkpoint: checkpoints/math/iter_1900.pt\n",
            "Iter 2000/5000, Avg Loss over dataset: 1.5055\n",
            "Saved checkpoint: checkpoints/math/iter_2000.pt\n",
            "Iter 2100/5000, Avg Loss over dataset: 1.4905\n",
            "Saved checkpoint: checkpoints/math/iter_2100.pt\n",
            "Iter 2200/5000, Avg Loss over dataset: 1.4412\n",
            "Saved checkpoint: checkpoints/math/iter_2200.pt\n",
            "Iter 2300/5000, Avg Loss over dataset: 1.4525\n",
            "Saved checkpoint: checkpoints/math/iter_2300.pt\n",
            "Iter 2400/5000, Avg Loss over dataset: 1.4351\n",
            "Saved checkpoint: checkpoints/math/iter_2400.pt\n",
            "Iter 2500/5000, Avg Loss over dataset: 1.4209\n",
            "Saved checkpoint: checkpoints/math/iter_2500.pt\n",
            "Iter 2600/5000, Avg Loss over dataset: 1.3991\n",
            "Saved checkpoint: checkpoints/math/iter_2600.pt\n",
            "Iter 2700/5000, Avg Loss over dataset: 1.4024\n",
            "Saved checkpoint: checkpoints/math/iter_2700.pt\n",
            "Iter 2800/5000, Avg Loss over dataset: 1.3891\n",
            "Saved checkpoint: checkpoints/math/iter_2800.pt\n",
            "Iter 2900/5000, Avg Loss over dataset: 1.3884\n",
            "Saved checkpoint: checkpoints/math/iter_2900.pt\n",
            "Iter 3000/5000, Avg Loss over dataset: 1.3752\n",
            "Saved checkpoint: checkpoints/math/iter_3000.pt\n",
            "Iter 3100/5000, Avg Loss over dataset: 1.3500\n",
            "Saved checkpoint: checkpoints/math/iter_3100.pt\n",
            "Iter 3200/5000, Avg Loss over dataset: 1.3555\n",
            "Saved checkpoint: checkpoints/math/iter_3200.pt\n",
            "Iter 3300/5000, Avg Loss over dataset: 1.3412\n",
            "Saved checkpoint: checkpoints/math/iter_3300.pt\n",
            "Iter 3400/5000, Avg Loss over dataset: 1.3299\n",
            "Saved checkpoint: checkpoints/math/iter_3400.pt\n",
            "Iter 3500/5000, Avg Loss over dataset: 1.3210\n",
            "Saved checkpoint: checkpoints/math/iter_3500.pt\n",
            "Iter 3600/5000, Avg Loss over dataset: 1.3098\n",
            "Saved checkpoint: checkpoints/math/iter_3600.pt\n",
            "Iter 3700/5000, Avg Loss over dataset: 1.3106\n",
            "Saved checkpoint: checkpoints/math/iter_3700.pt\n",
            "Iter 3800/5000, Avg Loss over dataset: 1.3127\n",
            "Saved checkpoint: checkpoints/math/iter_3800.pt\n",
            "Iter 3900/5000, Avg Loss over dataset: 1.2919\n",
            "Saved checkpoint: checkpoints/math/iter_3900.pt\n",
            "Iter 4000/5000, Avg Loss over dataset: 1.2716\n",
            "Saved checkpoint: checkpoints/math/iter_4000.pt\n",
            "Iter 4100/5000, Avg Loss over dataset: 1.2682\n",
            "Saved checkpoint: checkpoints/math/iter_4100.pt\n",
            "Iter 4200/5000, Avg Loss over dataset: 1.2799\n",
            "Saved checkpoint: checkpoints/math/iter_4200.pt\n",
            "Iter 4300/5000, Avg Loss over dataset: 1.2528\n",
            "Saved checkpoint: checkpoints/math/iter_4300.pt\n",
            "Iter 4400/5000, Avg Loss over dataset: 1.2579\n",
            "Saved checkpoint: checkpoints/math/iter_4400.pt\n",
            "Iter 4500/5000, Avg Loss over dataset: 1.2363\n",
            "Saved checkpoint: checkpoints/math/iter_4500.pt\n",
            "Iter 4600/5000, Avg Loss over dataset: 1.2342\n",
            "Saved checkpoint: checkpoints/math/iter_4600.pt\n",
            "Iter 4700/5000, Avg Loss over dataset: 1.2412\n",
            "Saved checkpoint: checkpoints/math/iter_4700.pt\n",
            "Iter 4800/5000, Avg Loss over dataset: 1.2074\n",
            "Saved checkpoint: checkpoints/math/iter_4800.pt\n",
            "Iter 4900/5000, Avg Loss over dataset: 1.2153\n",
            "Saved checkpoint: checkpoints/math/iter_4900.pt\n",
            "Saved final model to checkpoints/math/final.pt\n"
          ]
        }
      ],
      "source": [
        "import os\n",
        "import torch\n",
        "from tqdm import tqdm\n",
        "# Directory for this corpus\n",
        "corpus_name = \"math\" # \"math\", \"shakespeare\", \"wikipedia\"\n",
        "ckpt_dir = os.path.join(\"checkpoints\", corpus_name)\n",
        "os.makedirs(ckpt_dir, exist_ok=True)\n",
        "final_ckpt_path = os.path.join(ckpt_dir, \"final.pt\")\n",
        "\n",
        "if os.path.exists(final_ckpt_path):\n",
        "    print(f\"Final checkpoint for '{corpus_name}' found at {final_ckpt_path}.\")\n",
        "    ckpt = torch.load(final_ckpt_path, map_location=\"cpu\")\n",
        "    model.load_state_dict(ckpt[\"model_state\"])\n",
        "    losses = ckpt.get(\"losses\", [])\n",
        "    print(f\"Loaded model with {len(losses)} stored loss values.\")\n",
        "else:\n",
        "    print(f\"No checkpoint found for '{corpus_name}', starting training...\")\n",
        "    optimizer = torch.optim.AdamW(model.parameters(), lr=1e-3)\n",
        "    loader = DataLoader(dataset, batch_size=32, shuffle=True)\n",
        "    max_iters = 5000\n",
        "\n",
        "    losses = []   # will now store only full-batch eval losses\n",
        "    model.train()\n",
        "    for it in range(max_iters):\n",
        "        xb, yb = next(iter(loader))\n",
        "\n",
        "        logits, loss = model(xb, yb)\n",
        "        optimizer.zero_grad()\n",
        "        loss.backward()\n",
        "        optimizer.step()\n",
        "\n",
        "        if it % 100 == 0:\n",
        "            # Evaluate on full dataset (avg loss across all batches)\n",
        "            model.eval()\n",
        "            eval_losses = []\n",
        "\n",
        "            max_batches = len(loader) * 0.01\n",
        "            for i, (xb_eval, yb_eval) in enumerate(loader):\n",
        "                if i >= max_batches:  break\n",
        "                logits_eval, loss_eval = model(xb_eval, yb_eval)\n",
        "                eval_losses.append(loss_eval.item())\n",
        "            avg_loss = torch.mean(torch.tensor(eval_losses))\n",
        "            losses.append(avg_loss)\n",
        "            print(f\"Iter {it}/{max_iters}, Avg Loss over dataset: {avg_loss:.4f}\")\n",
        "\n",
        "            # Save periodic checkpoint\n",
        "            iter_ckpt_path = os.path.join(ckpt_dir, f\"iter_{it}.pt\")\n",
        "            torch.save({\n",
        "                \"model_state\": model.state_dict(),\n",
        "                \"config\": config.__dict__,\n",
        "                \"itos\": dataset.itos,\n",
        "                \"stoi\": dataset.stoi,\n",
        "                \"losses\": losses\n",
        "            }, iter_ckpt_path)\n",
        "            print(f\"Saved checkpoint: {iter_ckpt_path}\")\n",
        "            model.train()  # back to training mode\n",
        "\n",
        "    # Save final checkpoint\n",
        "    torch.save({\n",
        "        \"model_state\": model.state_dict(),\n",
        "        \"config\": config.__dict__,\n",
        "        \"itos\": dataset.itos,\n",
        "        \"stoi\": dataset.stoi,\n",
        "        \"losses\": losses\n",
        "    }, final_ckpt_path)\n",
        "    print(f\"Saved final model to {final_ckpt_path}\")\n"
      ]
    },
    {
      "cell_type": "code",
      "source": [
        "!zip -r checkpoints.zip checkpoints"
      ],
      "metadata": {
        "colab": {
          "base_uri": "https://localhost:8080/"
        },
        "id": "TFTXKQivALQr",
        "outputId": "af4bde01-0f9c-451b-bf85-cf89ab8a2be2"
      },
      "id": "TFTXKQivALQr",
      "execution_count": null,
      "outputs": [
        {
          "output_type": "stream",
          "name": "stdout",
          "text": [
            "  adding: checkpoints/ (stored 0%)\n",
            "  adding: checkpoints/math/ (stored 0%)\n",
            "  adding: checkpoints/math/iter_500.pt (deflated 8%)\n",
            "  adding: checkpoints/math/iter_3900.pt (deflated 8%)\n",
            "  adding: checkpoints/math/iter_3500.pt (deflated 8%)\n",
            "  adding: checkpoints/math/iter_4600.pt (deflated 8%)\n",
            "  adding: checkpoints/math/iter_2300.pt (deflated 8%)\n",
            "  adding: checkpoints/math/iter_2200.pt (deflated 8%)\n",
            "  adding: checkpoints/math/iter_800.pt (deflated 8%)\n",
            "  adding: checkpoints/math/iter_3100.pt (deflated 8%)\n",
            "  adding: checkpoints/math/iter_900.pt (deflated 8%)\n",
            "  adding: checkpoints/math/iter_4700.pt (deflated 8%)\n",
            "  adding: checkpoints/math/iter_1200.pt (deflated 8%)\n",
            "  adding: checkpoints/math/iter_2000.pt (deflated 8%)\n",
            "  adding: checkpoints/math/iter_400.pt (deflated 8%)\n",
            "  adding: checkpoints/math/iter_2600.pt (deflated 8%)\n",
            "  adding: checkpoints/math/final.pt (deflated 8%)\n",
            "  adding: checkpoints/math/iter_3300.pt (deflated 8%)\n",
            "  adding: checkpoints/math/iter_0.pt (deflated 8%)\n",
            "  adding: checkpoints/math/iter_2700.pt (deflated 8%)\n",
            "  adding: checkpoints/math/iter_1400.pt (deflated 8%)\n",
            "  adding: checkpoints/math/iter_2100.pt (deflated 8%)\n",
            "  adding: checkpoints/math/iter_1000.pt (deflated 8%)\n",
            "  adding: checkpoints/math/iter_2900.pt (deflated 8%)\n",
            "  adding: checkpoints/math/iter_4200.pt (deflated 8%)\n",
            "  adding: checkpoints/math/iter_3400.pt (deflated 8%)\n",
            "  adding: checkpoints/math/iter_4400.pt (deflated 8%)\n",
            "  adding: checkpoints/math/iter_1900.pt (deflated 8%)\n",
            "  adding: checkpoints/math/iter_1800.pt (deflated 8%)\n",
            "  adding: checkpoints/math/iter_2800.pt (deflated 8%)\n",
            "  adding: checkpoints/math/iter_4900.pt (deflated 8%)\n",
            "  adding: checkpoints/math/iter_2400.pt (deflated 8%)\n",
            "  adding: checkpoints/math/iter_700.pt (deflated 8%)\n",
            "  adding: checkpoints/math/iter_100.pt (deflated 8%)\n",
            "  adding: checkpoints/math/iter_4100.pt (deflated 8%)\n",
            "  adding: checkpoints/math/iter_3000.pt (deflated 8%)\n",
            "  adding: checkpoints/math/iter_4800.pt (deflated 8%)\n",
            "  adding: checkpoints/math/iter_300.pt (deflated 8%)\n",
            "  adding: checkpoints/math/iter_3200.pt (deflated 8%)\n",
            "  adding: checkpoints/math/iter_4000.pt (deflated 8%)\n",
            "  adding: checkpoints/math/iter_2500.pt (deflated 8%)\n",
            "  adding: checkpoints/math/iter_1100.pt (deflated 8%)\n",
            "  adding: checkpoints/math/iter_3700.pt (deflated 8%)\n",
            "  adding: checkpoints/math/iter_1700.pt (deflated 8%)\n",
            "  adding: checkpoints/math/iter_4500.pt (deflated 8%)\n",
            "  adding: checkpoints/math/iter_3600.pt (deflated 8%)\n",
            "  adding: checkpoints/math/iter_1300.pt (deflated 8%)\n",
            "  adding: checkpoints/math/iter_1600.pt (deflated 8%)\n",
            "  adding: checkpoints/math/iter_4300.pt (deflated 8%)\n",
            "  adding: checkpoints/math/iter_200.pt (deflated 8%)\n",
            "  adding: checkpoints/math/iter_600.pt (deflated 8%)\n",
            "  adding: checkpoints/math/iter_3800.pt (deflated 8%)\n",
            "  adding: checkpoints/math/iter_1500.pt (deflated 8%)\n"
          ]
        }
      ]
    },
    {
      "cell_type": "markdown",
      "id": "0a646a96-f161-4783-8db1-46115ddfebc3",
      "metadata": {
        "id": "0a646a96-f161-4783-8db1-46115ddfebc3"
      },
      "source": [
        "## Analysis: Track Model Output Over Training\n",
        "\n",
        "\n",
        "### **Procedure**\n",
        "* Extract model checkpoints every **100 iterations** (e.g., `iter_100.pt`, `iter_200.pt`, `iter_300.pt`, …).\n",
        "* For each corpus (`shakespeare`, `wikipedia`, `math`):\n",
        " * Use the provided generation code to produce **one line of generated text** from the **same fixed prompt** (e.g., `\"Once upon a time\"`).\n",
        " * If you find the output has not yet achieved the langauge structure quality you desire, you may want to train it for longer. Go until you have a strong model.\n",
        "\n",
        "---\n",
        "\n",
        "### **Consistency**\n",
        "\n",
        "* Keep the **prompt** identical across all checkpoints, but consistent to the corpora in mind.\n",
        "* Use the same **number of generated tokens** each time.\n",
        "* This ensures you can make direct comparisons between outputs.\n",
        "\n",
        "---\n",
        "\n",
        "### **Reporting**\n",
        "\n",
        "In your lab report:\n",
        "\n",
        "* Include a short **table or list** for each corpus showing:\n",
        "\n",
        "  * Iteration number.\n",
        "  * The generated output (first \\~100 characters).\n",
        "\n",
        "* Discuss the following:\n",
        "\n",
        "  * At what point does the text start to look coherent?\n",
        "  * How does the style differ between Shakespeare, Wikipedia, and Math?\n",
        "  * Does the model become **overconfident** (repetitive text, fixed patterns) at later stages?"
      ]
    },
    {
      "cell_type": "code",
      "source": [
        "import os\n",
        "\n",
        "# This code loads a specific training checkpoint of NanoGPT\n",
        "# (saved during training) and uses it to generate text.\n",
        "\n",
        "\n",
        "def generate_small_text(corpus, start_text, iteration_to_load, max_new_tokens):\n",
        "    # Path to the specific checkpoint\n",
        "\n",
        "    if iteration_to_load == \"final\":\n",
        "        ckpt_path = os.path.join(\"checkpoints\", corpus, \"final.pt\")\n",
        "    else:\n",
        "        ckpt_path = os.path.join(\"checkpoints\", corpus, f\"iter_{iteration_to_load}.pt\")\n",
        "\n",
        "    if not os.path.exists(ckpt_path):\n",
        "        print(f\"Checkpoint {ckpt_path} not found. Make sure to train first.\")\n",
        "    else:\n",
        "        # Load checkpoint from disk\n",
        "        ckpt = torch.load(ckpt_path, map_location=\"cpu\")\n",
        "\n",
        "        # Rebuild the GPT model from saved config\n",
        "        loaded_config = type(\"GPTConfig\", (), ckpt[\"config\"])\n",
        "        gen_model = GPT(loaded_config)\n",
        "        gen_model.load_state_dict(ckpt[\"model_state\"])\n",
        "        gen_model.eval()\n",
        "\n",
        "        # Tokenization: convert characters to IDs\n",
        "        stoi = ckpt[\"stoi\"]\n",
        "        itos = ckpt[\"itos\"]\n",
        "        idx = torch.tensor([stoi.get(c, 0) for c in start_text], dtype=torch.long).unsqueeze(0)\n",
        "\n",
        "        # Autoregressive generation loop\n",
        "        with torch.no_grad():\n",
        "            for _ in range(max_new_tokens):\n",
        "                # Feed only the last block_size tokens\n",
        "                idx_cond = idx[:, -loaded_config.block_size:]\n",
        "                logits, _ = gen_model(idx_cond)\n",
        "\n",
        "                # Convert logits to probabilities\n",
        "                probs = torch.softmax(logits[:, -1, :], dim=-1)\n",
        "\n",
        "                # Sample next token from probability distribution\n",
        "                idx_next = torch.multinomial(probs, num_samples=1)\n",
        "\n",
        "                # Append new token to the sequence\n",
        "                idx = torch.cat((idx, idx_next), dim=1)\n",
        "\n",
        "        # Decode IDs back into text\n",
        "        generated_text = ''.join([itos[i.item()] for i in idx[0]])\n",
        "        return generated_text"
      ],
      "metadata": {
        "id": "oRoO14aPqzeM"
      },
      "id": "oRoO14aPqzeM",
      "execution_count": null,
      "outputs": []
    },
    {
      "cell_type": "code",
      "source": [
        "import pandas as pd\n",
        "\n",
        "# Initialize an empty list to store results\n",
        "results = []\n",
        "\n",
        "# Loop from 100 to 5000 (inclusive), step size = 100\n",
        "\n",
        "for i in range(0, 4901, 100):\n",
        "    # Store (iteration, string) as a tuple\n",
        "    s = generate_small_text(\"math\", \"Once upon a time\", f\"{i}\", 100)\n",
        "    results.append((i,s))\n",
        "\n",
        "s = generate_small_text(\"math\", \"Once upon a time\", \"final\", 100)\n",
        "results.append((\"final\",s))\n",
        "\n",
        "# Convert list of tuples into a DataFrame (table)\n",
        "df = pd.DataFrame(results, columns=[\"Iteration\", \"String\"])\n",
        "\n",
        "# Show the table\n",
        "print(df)\n",
        "\n",
        "# Optionally, save to CSV\n",
        "df.to_csv(\"iteration_strings_math.csv\", index=False)"
      ],
      "metadata": {
        "colab": {
          "base_uri": "https://localhost:8080/"
        },
        "id": "-p-k8t3XrBZG",
        "outputId": "f6c7822f-3f30-47f3-da5b-6ac649eb149c"
      },
      "id": "-p-k8t3XrBZG",
      "execution_count": null,
      "outputs": [
        {
          "output_type": "stream",
          "name": "stdout",
          "text": [
            "number of parameters: 0.41M\n",
            "number of parameters: 0.41M\n",
            "number of parameters: 0.41M\n",
            "number of parameters: 0.41M\n",
            "number of parameters: 0.41M\n",
            "number of parameters: 0.41M\n",
            "number of parameters: 0.41M\n",
            "number of parameters: 0.41M\n",
            "number of parameters: 0.41M\n",
            "number of parameters: 0.41M\n",
            "number of parameters: 0.41M\n",
            "number of parameters: 0.41M\n",
            "number of parameters: 0.41M\n",
            "number of parameters: 0.41M\n",
            "number of parameters: 0.41M\n",
            "number of parameters: 0.41M\n",
            "number of parameters: 0.41M\n",
            "number of parameters: 0.41M\n",
            "number of parameters: 0.41M\n",
            "number of parameters: 0.41M\n",
            "number of parameters: 0.41M\n",
            "number of parameters: 0.41M\n",
            "number of parameters: 0.41M\n",
            "number of parameters: 0.41M\n",
            "number of parameters: 0.41M\n",
            "number of parameters: 0.41M\n",
            "number of parameters: 0.41M\n",
            "number of parameters: 0.41M\n",
            "number of parameters: 0.41M\n",
            "number of parameters: 0.41M\n",
            "number of parameters: 0.41M\n",
            "number of parameters: 0.41M\n",
            "number of parameters: 0.41M\n",
            "number of parameters: 0.41M\n",
            "number of parameters: 0.41M\n",
            "number of parameters: 0.41M\n",
            "number of parameters: 0.41M\n",
            "number of parameters: 0.41M\n",
            "number of parameters: 0.41M\n",
            "number of parameters: 0.41M\n",
            "number of parameters: 0.41M\n",
            "number of parameters: 0.41M\n",
            "number of parameters: 0.41M\n",
            "number of parameters: 0.41M\n",
            "number of parameters: 0.41M\n",
            "number of parameters: 0.41M\n",
            "number of parameters: 0.41M\n",
            "number of parameters: 0.41M\n",
            "number of parameters: 0.41M\n",
            "number of parameters: 0.41M\n",
            "number of parameters: 0.41M\n",
            "   Iteration                                             String\n",
            "0          0  Once upon a timeq 9gIJbtj\"Qb eHJZ,•J7qiG■—+§<4...\n",
            "1        100  Once upon a timend»- whenmof \\n\\nes hin — x 5 ...\n",
            "2        200  Once upon a timens re, \\naly woof b(\\n(c ) \\n\\...\n",
            "3        300  Once upon a time bethe \\n(ditecorlse y atresfa...\n",
            "4        400  Once upon a timeded \\n\\nby ealoku dt _ y dx, 2...\n",
            "5        500  Once upon a timesont bet and mayZVo --j fcaly ...\n",
            "6        600  Once upon a times onottan value \\n(x-3-7a; \\n\\...\n",
            "7        700  Once upon a times a mow be must r of the \\nthe...\n",
            "8        800  Once upon a time \\n\\nsirea y of which t integr...\n",
            "9        900  Once upon a time \\nas tuche of dwe the all wit...\n",
            "10      1000  Once upon a time, we have \\nz plartisfy hiknow...\n",
            "11      1100  Once upon a timens, where appsed is of differe...\n",
            "12      1200  Once upon a time two take of Insigulary, ascer...\n",
            "13      1300  Once upon a time. \\n\\n\\n\\n4314 \\n\\n\\n\\nE \\n\\nr...\n",
            "14      1400  Once upon a time, that if the \\ncurve back it ...\n",
            "15      1500  Once upon a time, to (seec. 8); and while put ...\n",
            "16      1600  Once upon a time, \\n\\nx = x(Sx b=0 \\n\\n\\ncoss ...\n",
            "17      1700  Once upon a time±fore ap en. Find the ordinate...\n",
            "18      1800  Once upon a timentum \\nwhich in squantity, it ...\n",
            "19      1900  Once upon a time that \\nthe point: there ratio...\n",
            "20      2000  Once upon a time, this capeared. So do N \\nFir...\n",
            "21      2100  Once upon a time amount into, vingeater severa...\n",
            "22      2200  Once upon a times a \\nyrequired at a small com...\n",
            "23      2300  Once upon a time \\n\\nwith one servol. \\n\\nft. ...\n",
            "24      2400  Once upon a time is circle, it will be \\ntany ...\n",
            "25      2500  Once upon a time thing (l. \\nNow to out to kno...\n",
            "26      2600  Once upon a time tans-sant as two terbect the ...\n",
            "27      2700  Once upon a time is to proceimately. Na. Thus,...\n",
            "28      2800  Once upon a time-wy factor width \\nnathmely, t...\n",
            "29      2900  Once upon a times the factor \\nwhould legin wi...\n",
            "30      3000  Once upon a time \\nformula y have has beeen th...\n",
            "31      3100  Once upon a time taken the solution will consi...\n",
            "32      3200  Once upon a time is expressed by the adian of ...\n",
            "33      3300  Once upon a time, with values : \\n\\nWe may ass...\n",
            "34      3400  Once upon a time, we may written ) is \\n\\nfor ...\n",
            "35      3500  Once upon a time, or \\nminimum. \\n\\nTravellow ...\n",
            "36      3600  Once upon a time-tence times which your pratic...\n",
            "37      3700  Once upon a time, by the \\ntwo I. \\n\\n\\n\\n\\n\\n...\n",
            "38      3800  Once upon a time, nericeed, \\nand, find equati...\n",
            "39      3900  Once upon a time at \\nstrip to workeding made ...\n",
            "40      4000  Once upon a time solutions how to \\nas hange o...\n",
            "41      4100  Once upon a time takes at propert- \\npriso, wh...\n",
            "42      4200  Once upon a time t =3 rr = S f (J a , .since t...\n",
            "43      4300  Once upon a time time \\nvalues Mathematical me...\n",
            "44      4400  Once upon a time, \\n\\nor and add if- ture case...\n",
            "45      4500  Once upon a time t sthat the differentiating \\...\n",
            "46      4600  Once upon a time out, will remely adding \\ntha...\n",
            "47      4700  Once upon a time, if all the fractional to the...\n",
            "48      4800  Once upon a time \\nopninal for that where, str...\n",
            "49      4900  Once upon a time-constant t. \\n\\nNow, if the a...\n",
            "50     final  Once upon a time, hence \\nthe two product in m...\n"
          ]
        }
      ]
    },
    {
      "cell_type": "code",
      "source": [
        "# Initialize an empty list to store results\n",
        "results = []\n",
        "\n",
        "# Loop from 100 to 5000 (inclusive), step size = 100\n",
        "\n",
        "for i in range(5):\n",
        "    # Store (iteration, string) as a tuple\n",
        "    s = generate_small_text(\"math\", \"Once upon a time\",\"final\", 100)\n",
        "    results.append((i,s))\n",
        "\n",
        "# Convert list of tuples into a DataFrame (table)\n",
        "df = pd.DataFrame(results, columns=[\"Iteration\", \"String\"])\n",
        "\n",
        "# Show the table\n",
        "print(df)\n",
        "\n",
        "# Optionally, save to CSV\n",
        "df.to_csv(\"iteration_strings_final_math.csv\", index=False)"
      ],
      "metadata": {
        "colab": {
          "base_uri": "https://localhost:8080/"
        },
        "id": "H6kE4b1r6uyl",
        "outputId": "283e50ef-461b-4514-c391-92f017391715"
      },
      "id": "H6kE4b1r6uyl",
      "execution_count": null,
      "outputs": [
        {
          "output_type": "stream",
          "name": "stdout",
          "text": [
            "number of parameters: 0.41M\n",
            "number of parameters: 0.41M\n",
            "number of parameters: 0.41M\n",
            "number of parameters: 0.41M\n",
            "number of parameters: 0.41M\n",
            "   Iteration                                             String\n",
            "0          0  Once upon a timension, preded \\n\\nThe process ...\n",
            "1          1  Once upon a time hourselves, however, 4000 \\n\\...\n",
            "2          2  Once upon a time, this \\nof the capacite will ...\n",
            "3          3  Once upon a time, that is the arc \\nfirst nown...\n",
            "4          4  Once upon a time of C alcoes, as \\nits such ei...\n"
          ]
        }
      ]
    },
    {
      "cell_type": "code",
      "source": [
        "import torch\n",
        "import glob\n",
        "import re\n",
        "import matplotlib.pyplot as plt\n",
        "\n",
        "# Find all checkpoint files matching iter_*.pt\n",
        "files = glob.glob(\"checkpoints/math/iter_*.pt\")\n",
        "\n",
        "iterations = []\n",
        "loss_values = []\n",
        "\n",
        "for f in files:\n",
        "    # Extract iteration number from filename using regex\n",
        "    match = re.search(r\"iter_(\\d+)\\.pt\", f)\n",
        "    if match:\n",
        "        iteration = int(match.group(1))\n",
        "\n",
        "        # Load checkpoint\n",
        "        checkpoint = torch.load(f, map_location=\"cpu\")\n",
        "\n",
        "        # Extract losses (assuming it's a list or scalar)\n",
        "        losses = checkpoint.get(\"losses\", None)\n",
        "\n",
        "        if losses is not None:\n",
        "            # If it's a list, you might want the last value\n",
        "            if isinstance(losses, (list, tuple)):\n",
        "                loss_val = losses[-1]   # last loss\n",
        "            else:\n",
        "                loss_val = losses       # single value\n",
        "\n",
        "            iterations.append(iteration)\n",
        "            loss_values.append(loss_val)\n",
        "\n",
        "# Sort by iteration (in case glob doesn't return in order)\n",
        "iterations, loss_values = zip(*sorted(zip(iterations, loss_values)))\n",
        "\n",
        "# Plot\n",
        "plt.figure(figsize=(10,6))\n",
        "plt.plot(iterations, loss_values, marker=\"o\")\n",
        "plt.xlabel(\"Iterations\")\n",
        "plt.ylabel(\"Loss\")\n",
        "plt.title(\"Training Loss vs Iterations\")\n",
        "plt.grid(True)\n",
        "plt.show()"
      ],
      "metadata": {
        "colab": {
          "base_uri": "https://localhost:8080/",
          "height": 564
        },
        "id": "94hVt0iSAv4R",
        "outputId": "259931fd-6063-4cf7-d09d-06c8e88cb4a6"
      },
      "id": "94hVt0iSAv4R",
      "execution_count": null,
      "outputs": [
        {
          "output_type": "display_data",
          "data": {
            "text/plain": [
              "<Figure size 1000x600 with 1 Axes>"
            ],
            "image/png": "[encoded data removed]"
          },
          "metadata": {}
        }
      ]
    },
    {
      "cell_type": "markdown",
      "id": "9a9c1cf5-b258-4cfc-a4e8-3fda93a23a08",
      "metadata": {
        "id": "9a9c1cf5-b258-4cfc-a4e8-3fda93a23a08"
      },
      "source": [
        "## Analysis: Variability of the Final Model\n",
        "\n",
        "### **Procedure**\n",
        "\n",
        "* After training, take the **final checkpoint** for each corpus.\n",
        "* Using the same prompt as before (corpus-consistent), generate **multiple outputs (at least 5)**.\n",
        "* Each output should use the same number of tokens, so they are directly comparable.\n",
        "\n",
        "---\n",
        "\n",
        "### **Consistency**\n",
        "\n",
        "* Keep the prompt identical across all generations for each corpus.\n",
        "* Do not change model parameters, only re-run generation.\n",
        "\n",
        "---\n",
        "\n",
        "### **Reporting**\n",
        "\n",
        "In your lab report:\n",
        "\n",
        "* Include the set of generated outputs from the final model.\n",
        "* Comment on:\n",
        "\n",
        "  * The **variance** across outputs: do they differ in interesting ways, or are they repetitive?\n",
        "  * Whether the variability seems to capture the **style** of the corpus.\n",
        "  * Whether you are satisfied with the outputs: does it feel like the model “learned” something meaningful?\n",
        "\n"
      ]
    },
    {
      "cell_type": "markdown",
      "id": "ba797b96-e38e-4f27-b6e2-0b67933bfb71",
      "metadata": {
        "id": "ba797b96-e38e-4f27-b6e2-0b67933bfb71"
      },
      "source": [
        "\n",
        "\n",
        "## **Analysis: Plot Training Loss from Checkpoints**\n",
        "\n",
        "* Produce **one loss curve plot per corpus** (`shakespeare`, `wikipedia`, `math`).\n",
        "* Compare and contrast the training behavior across the different corpora.\n",
        "\n",
        "**What to Comment On**\n",
        "\n",
        "* Identify which loss values seem to correspond to **qualitatively good performance** (e.g., when the model starts producing coherent, domain-appropriate text).\n",
        "* Note that the **initial drop in loss** is often not enough: real quality emerges only once the model reaches **very low error**.\n",
        "* Discuss differences across corpora:\n",
        "\n",
        "  * Which corpus needed lower loss values before outputs became convincing?\n",
        "  * Do some domains “sound good” ons for what to hand in)?\n"
      ]
    },
    {
      "cell_type": "markdown",
      "id": "4a4e4482-5010-4c12-b9b5-3198b3995711",
      "metadata": {
        "id": "4a4e4482-5010-4c12-b9b5-3198b3995711"
      },
      "source": [
        "## **Part 2 – Cross-Domain Evaluation**\n",
        "\n",
        "* Evaluate each trained model **on each other’s dataset**:\n",
        "\n",
        "  * **Zero-shot**: Direct prompt without domain examples.\n",
        "  * **Few-shot**: Include 1–3 in-domain examples in the prompt.\n",
        "* Compare:\n",
        "\n",
        "  * Loss in-domain vs. out-of-domain.\n",
        "  * Quality and relevance of generated continuations.\n",
        "\n"
      ]
    },
    {
      "cell_type": "markdown",
      "id": "589bf801-1cc8-48a0-89c4-e68b31613aa4",
      "metadata": {
        "id": "589bf801-1cc8-48a0-89c4-e68b31613aa4"
      },
      "source": [
        "\n",
        "\n",
        "# Detailed Instructions\n",
        "\n",
        "### **Part 2 Step 1: Zero-shot Evaluation**\n",
        "\n",
        "For each dataset pair (A, B) where A, B ∈ {`wikipedia`, `math`, `shakespeare`}:\n",
        "\n",
        "1. Load the **final checkpoint** of the model trained on A.\n",
        "\n",
        "   * When rebuilding the model, you must restore the **vocab size** from the checkpoint, e.g.\n",
        "\n",
        "     ```python\n",
        "     vocab_size = len(ckpt[\"stoi\"])\n",
        "     model = GPT(vocab_size=vocab_size)\n",
        "     ```\n",
        "   * This ensures the embedding and output layers match the original training.\n",
        "2. Evaluate it on dataset B **without in-domain examples**. Do so on 1% of the training data, as it is very large.\n",
        "3. Record the **loss values** in a 3×3 table (diagonal = in-domain).\n",
        "4. For each pair, include one **generated sample** with these instructions?\n"
      ]
    },
    {
      "cell_type": "code",
      "source": [
        "import torch\n",
        "from torch.utils.data import DataLoader, Subset\n",
        "import random\n",
        "import glob\n",
        "import re\n",
        "import matplotlib.pyplot as plt\n",
        "\n",
        "# Assume you already have: GPT class defined\n",
        "\n",
        "datasets = [\"wikipedia\", \"math\", \"shakespeare\"]\n",
        "block_size = 64\n",
        "\n",
        "loss_matrix = {}\n",
        "samples = {}\n",
        "\n",
        "for A in datasets:\n",
        "    # --- Load checkpoint trained on dataset A ---\n",
        "    ckpt_path = f\"drive/MyDrive/checkpoints/{A}/final.pt\"   # adjust path\n",
        "    ckpt = torch.load(ckpt_path, map_location=\"cpu\")\n",
        "\n",
        "    vocab_size = len(ckpt[\"stoi\"])\n",
        "    model = GPT(GPTConfig(vocab_size=vocab_size, block_size=block_size))\n",
        "    model.load_state_dict(ckpt[\"model_state\"])\n",
        "    model.eval()\n",
        "\n",
        "    for B in datasets:\n",
        "        # --- Load dataset B into CharDataset ---\n",
        "        text = Path(f\"data/{B}.txt\").read_text(encoding=\"utf-8\", errors=\"ignore\")\n",
        "        dataset_B = CharDataset(text, block_size=block_size, stoi=ckpt[\"stoi\"], itos=ckpt[\"itos\"])\n",
        "\n",
        "        # Use only 1% of training data\n",
        "        n = len(dataset_B)\n",
        "        one_percent = max(1, n // 100)\n",
        "        subset_indices = random.sample(range(n), one_percent)\n",
        "        subset = Subset(dataset_B, subset_indices)\n",
        "        loader = DataLoader(subset, batch_size=32)\n",
        "\n",
        "        # --- Evaluate loss ---\n",
        "        total_loss = 0\n",
        "        count = 0\n",
        "        with torch.no_grad():\n",
        "            for x, y in loader:\n",
        "                logits, loss = model(x, y)\n",
        "                total_loss += loss.item() * x.size(0)\n",
        "                count += x.size(0)\n",
        "        avg_loss = total_loss / count\n",
        "        loss_matrix[(A, B)] = avg_loss\n",
        "\n",
        "        # --- Generate one sample on dataset B ---\n",
        "        prompt = text[:block_size]  # take first block_size chars as seed\n",
        "        prompt_encoded = torch.tensor([ckpt[\"stoi\"].get(c, 0) for c in prompt], dtype=torch.long).unsqueeze(0)\n",
        "        generated = model.generate(prompt_encoded, max_new_tokens=100, temperature=0.8)[0].tolist()\n",
        "        generated_text = \"\".join([ckpt[\"itos\"].get(i, \"?\") for i in generated])\n",
        "\n",
        "        samples[(A, B)] = generated_text\n",
        "\n",
        "# --- Print loss table ---\n",
        "print(\"Loss Table:\\n\")\n",
        "print(\"\\t\" + \"\\t\".join(datasets))\n",
        "for A in datasets:\n",
        "    row = [A]\n",
        "    for B in datasets:\n",
        "        row.append(f\"{loss_matrix[(A,B)]:.3f}\")\n",
        "    print(\"\\t\".join(row))\n",
        "\n",
        "# --- Show sample generations ---\n",
        "print(\"\\nSample Generations:\")\n",
        "for (A, B), text in samples.items():\n",
        "    print(f\"\\nModel trained on {A}, evaluated on {B}:\\n{text}\\n\")\n"
      ],
      "metadata": {
        "colab": {
          "base_uri": "https://localhost:8080/"
        },
        "id": "ftgv6Y_UKuZK",
        "outputId": "5a18bdd5-cad8-4fee-8d3b-543237b87ec4"
      },
      "id": "ftgv6Y_UKuZK",
      "execution_count": null,
      "outputs": [
        {
          "output_type": "stream",
          "name": "stdout",
          "text": [
            "number of parameters: 0.43M\n",
            "number of parameters: 0.41M\n",
            "number of parameters: 0.41M\n",
            "Loss Table:\n",
            "\n",
            "\twikipedia\tmath\tshakespeare\n",
            "wikipedia\t1.424\t2.618\t2.472\n",
            "math\t2.719\t1.219\t3.520\n",
            "shakespeare\t2.369\t3.988\t1.407\n",
            "\n",
            "Sample Generations:\n",
            "\n",
            "Model trained on wikipedia, evaluated on wikipedia:\n",
            "April\n",
            "\n",
            "April (Apr.) is the fourth month of the year in the Julian some account region buildings to were for about 310 in a value to transpital atoms Christians gove\n",
            "\n",
            "\n",
            "Model trained on wikipedia, evaluated on math:\n",
            "/ /v >0 erf J <TT \n",
            "\n",
            "r \n",
            "/as QAfeJtedAf. \n",
            "\n",
            "\n",
            "\n",
            "CALCULUS MADE EASY \n",
            "\n",
            "Saria (will a country is preper a fastron. But it thribes believe reserte the rained many to loak th\n",
            "\n",
            "\n",
            "Model trained on wikipedia, evaluated on shakespeare:\n",
            "First Citizen:\n",
            "Before we proceed any further, hear me speak.\n",
            "\n",
            "Alsometimes in 1993 events are viewstmerist and became of relapted and the ancient atoms, schoolar tri\n",
            "\n",
            "\n",
            "Model trained on math, evaluated on wikipedia:\n",
            "April\n",
            "\n",
            "April (Apr.) is the fourth month of the year in the Juliable \n",
            "none'e another curvature and the portion, (i) curve y 2 = log, the \n",
            "general will the increment \n",
            "\n",
            "\n",
            "Model trained on math, evaluated on math:\n",
            "/ /v >0 erf J <TT \n",
            "\n",
            "r \n",
            "/as QAfeJtedAf. \n",
            "\n",
            "\n",
            "\n",
            "CALCULUS MADE EASY \n",
            "\n",
            "(2) Find the radius of differentiating. Let \n",
            "\n",
            "a? 2 f a log 1 a; \n",
            "\n",
            "\n",
            "\n",
            "\n",
            "291 \n",
            "\n",
            "\n",
            "\n",
            "Curves 20 \n",
            "\n",
            "\n",
            "\n",
            "\n",
            "\n",
            "Fig. 35\n",
            "\n",
            "\n",
            "Model trained on math, evaluated on shakespeare:\n",
            "First Citizen:\n",
            "Before we proceed any further, hear me speak.\n",
            "\n",
            "Always will mok by the letter and 000 millimetres; and \n",
            "the curve is the here centre of curvature of t\n",
            "\n",
            "\n",
            "Model trained on shakespeare, evaluated on wikipedia:\n",
            "April\n",
            "\n",
            "April \n",
            "Apr.\n",
            " is the fourth month of the year in the Julia,\n",
            "Thou may possess then with some to\n",
            "call your father's to meet.\n",
            "\n",
            "ROMEO:\n",
            "True must will see far mall\n",
            "\n",
            "\n",
            "Model trained on shakespeare, evaluated on math:\n",
            "\n",
            " \n",
            "v \n",
            "\n",
            " erf J \n",
            "TT \n",
            "\n",
            "r \n",
            "\n",
            "as QAfeJtedAf. \n",
            "\n",
            "\n",
            "\n",
            "CALCULUS MADE EASY \n",
            "\n",
            "WARWICK:\n",
            "Madanes, lords himself the has is myself?\n",
            "\n",
            "MERCUTIO:\n",
            "Nay, he are design them in the earth,\n",
            "\n",
            "\n",
            "\n",
            "Model trained on shakespeare, evaluated on shakespeare:\n",
            "First Citizen:\n",
            "Before we proceed any further, hear me speak.\n",
            "\n",
            "All:\n",
            "She hath comes you would seek to point,\n",
            "This is your cousin's fairer to you.\n",
            "\n",
            "NORTHUMBERLAND:\n",
            "The\n",
            "\n"
          ]
        }
      ]
    },
    {
      "cell_type": "markdown",
      "id": "89369e58-44f4-4e88-96ec-1a5e79e17344",
      "metadata": {
        "id": "89369e58-44f4-4e88-96ec-1a5e79e17344"
      },
      "source": [
        "### **Part 2 Step 2: Few-shot Evaluation**\n",
        "\n",
        "1. **Start from a Pretrained Model (Dataset A).**\n",
        "\n",
        "   * Choose a model that has already been trained on dataset **A** (e.g., `wikipedia`, `math`, `shakespeare`).\n",
        "   * Load the **final checkpoint** for A:\n",
        "\n",
        "     ```python\n",
        "     ckpt_path = f\"checkpoints/{A}/final.pt\"\n",
        "     ckpt = torch.load(ckpt_path, map_location=\"cpu\")\n",
        "     ```\n",
        "   * Important: the vocabulary size used for training A may differ from the default.\n",
        "\n",
        "     * Before building the model, set\n",
        "\n",
        "       ```python\n",
        "       config.vocab_size = len(ckpt[\"stoi\"])\n",
        "       model = GPT(config)\n",
        "       ```\n",
        "     * This ensures the embedding and output layer dimensions match the checkpoint.\n",
        "   * Finally, load the weights:\n",
        "\n",
        "     ```python\n",
        "     model.load_state_dict(ckpt[\"model_state\"])\n",
        "     ```\n",
        "\n",
        "2. **Fine-tune on Dataset B.**\n",
        "\n",
        "   * Use the **same vocabulary (`stoi`, `itos`) from dataset A** to enco0de dataset B.\n",
        "   * Train for **200 iterations** with AdamW (`lr=**10, 25, 50, 100, 2ns thereafter if you extend training.\n",
        "   * Naming convention:\n",
        "\n",
        "     ```\n",
        "     {A}_start{N}_{B}_run{M}.pt\n",
        "     ```\n",
        "\n",
        "     where\n",
        "\n",
        "     * **A** = source dataset (e.g. `wikipedia`)\n",
        "     * **B** = target dataset (e.g. `math`)\n",
        "     * **N** = starting iteration (e.g. `0` if from scratch, or `500` if resuming)\n",
        "     * **M** = current fine-tuning iteration\n",
        "\n",
        "3. **Evaluate and Track Loss.**\n",
        "\n",
        "   * Every 50 steps, evaluate on a **1% subsample of dataset B** for speed.\n",
        "   * Record the average evaluation loss.\n",
        "   * Keep a running list of these evaluation losses to plot later.\n",
        "\n",
        "4. **Plot Loss Curves.**\n",
        "\n",
        "   * After training, plot **loss vs iteration** for each experiment.\n",
        "   * Compare curves across different (A→B) fine-tuning runs.\n",
        "   * This shows how quickly and effectively each pretrained model adapts to dataset B.\n",
        "\n",
        "5. **Examples**\n",
        "\n",
        "   * At each saved checkpoint (10, 25, 50, 100, 200), generate short text continuations from the model.\n",
        "   * Use the same sampling routine (temperature-controlled decoding).\n",
        "   * Collect and compare generations to see how quality improves over epochs\n",
        "\n"
      ]
    },
    {
      "cell_type": "code",
      "source": [
        "import torch\n",
        "from torch.utils.data import Dataset, DataLoader, Subset\n",
        "from pathlib import Path\n",
        "import random\n",
        "import matplotlib.pyplot as plt\n",
        "from tqdm import trange\n",
        "\n",
        "# -------------------------\n",
        "# Few-shot training & evaluation\n",
        "# -------------------------\n",
        "def few_shot_finetune(A, B, GPT, config, block_size=64, max_iters=200, batch_size=32, eval_interval=50):\n",
        "    device = \"cuda\" if torch.cuda.is_available() else \"cpu\"\n",
        "\n",
        "    # 1. Load pretrained checkpoint (dataset A)\n",
        "    ckpt_path = f\"drive/MyDrive/checkpoints/{A}/final.pt\"\n",
        "    ckpt = torch.load(ckpt_path, map_location=\"cpu\")\n",
        "\n",
        "    # 2. Build model with A’s vocab size\n",
        "    config.vocab_size = len(ckpt[\"stoi\"])\n",
        "    model = GPT(config).to(device)\n",
        "    model.load_state_dict(ckpt[\"model_state\"])\n",
        "    model.train()\n",
        "\n",
        "    optimizer = torch.optim.AdamW(model.parameters(), lr=1e-4)\n",
        "\n",
        "    # 3. Load dataset B, reusing A’s vocab\n",
        "    text_B = Path(f\"data/{B}.txt\").read_text(encoding=\"utf-8\", errors=\"ignore\")\n",
        "    dataset_B = CharDataset(text_B, block_size=block_size, stoi=ckpt[\"stoi\"], itos=ckpt[\"itos\"])\n",
        "    loader_B = DataLoader(dataset_B, batch_size=batch_size, shuffle=True)\n",
        "\n",
        "    # Subset (1%) for evaluation\n",
        "    subset_size = max(1, len(dataset_B) // 100)\n",
        "    subset_indices = random.sample(range(len(dataset_B)), subset_size)\n",
        "    eval_subset = Subset(dataset_B, subset_indices)\n",
        "    eval_loader = DataLoader(eval_subset, batch_size=batch_size)\n",
        "\n",
        "    eval_losses, eval_steps = [], []\n",
        "\n",
        "    # 4. Fine-tuning loop\n",
        "    for step, (x, y) in zip(trange(max_iters), loader_B):\n",
        "        x, y = x.to(device), y.to(device)\n",
        "        logits, loss = model(x, y)\n",
        "        optimizer.zero_grad(set_to_none=True)\n",
        "        loss.backward()\n",
        "        optimizer.step()\n",
        "\n",
        "        # Evaluate\n",
        "        if (step + 1) % eval_interval == 0 or step == 0:\n",
        "            model.eval()\n",
        "            total_loss, count = 0, 0\n",
        "            with torch.no_grad():\n",
        "                for xb, yb in eval_loader:\n",
        "                    xb, yb = xb.to(device), yb.to(device)\n",
        "                    _, l = model(xb, yb)\n",
        "                    total_loss += l.item() * xb.size(0)\n",
        "                    count += xb.size(0)\n",
        "            avg_loss = total_loss / count\n",
        "            eval_losses.append(avg_loss)\n",
        "            eval_steps.append(step + 1)\n",
        "            print(f\"Step {step+1}: eval loss = {avg_loss:.4f}\")\n",
        "            model.train()\n",
        "\n",
        "            # Save checkpoint\n",
        "            save_path = f\"drive/MyDrive/checkpoints/{A}_{B}/{A}_start0_{B}_run{step+1}.pt\"\n",
        "            torch.save({\n",
        "                \"model_state\": model.state_dict(),\n",
        "                \"stoi\": ckpt[\"stoi\"],\n",
        "                \"itos\": ckpt[\"itos\"],\n",
        "                \"losses\": eval_losses\n",
        "            }, save_path)\n",
        "\n",
        "            # Generate sample\n",
        "            prompt = \"The theorem states\"\n",
        "            encoded = torch.tensor([ckpt[\"stoi\"].get(c, 0) for c in prompt], dtype=torch.long).unsqueeze(0).to(device)\n",
        "            out = model.generate(encoded, max_new_tokens=100, temperature=0.8)[0].tolist()\n",
        "            sample = \"\".join([ckpt[\"itos\"].get(i, \"?\") for i in out])\n",
        "            print(f\"Sample @ step {step+1}:\\n{sample}\\n\")\n",
        "\n",
        "    # 5. Plot curve\n",
        "    plt.plot(eval_steps, eval_losses, marker=\"o\")\n",
        "    plt.xlabel(\"Iteration\")\n",
        "    plt.ylabel(f\"Eval Loss on {B} (1%)\")\n",
        "    plt.title(f\"Few-shot Fine-tuning {A} → {B}\")\n",
        "    plt.show()\n",
        "\n",
        "    return eval_steps, eval_losses\n",
        "\n",
        "# Example: fine-tune from Wikipedia → Math\n",
        "steps, losses = few_shot_finetune(\"shakespeare\", \"wikipedia\", GPT, config)\n"
      ],
      "metadata": {
        "colab": {
          "base_uri": "https://localhost:8080/",
          "height": 968
        },
        "id": "dAlo2Eo3Wp0A",
        "outputId": "bfb2e2a1-d405-4e29-b67b-5d89333ab732"
      },
      "id": "dAlo2Eo3Wp0A",
      "execution_count": null,
      "outputs": [
        {
          "output_type": "stream",
          "name": "stdout",
          "text": [
            "number of parameters: 0.41M\n"
          ]
        },
        {
          "output_type": "stream",
          "name": "stderr",
          "text": [
            "\r  0%|          | 0/200 [00:00<?, ?it/s]"
          ]
        },
        {
          "output_type": "stream",
          "name": "stdout",
          "text": [
            "Step 1: eval loss = 2.3374\n"
          ]
        },
        {
          "output_type": "stream",
          "name": "stderr",
          "text": [
            "  1%|          | 2/200 [00:27<37:26, 11.35s/it]  "
          ]
        },
        {
          "output_type": "stream",
          "name": "stdout",
          "text": [
            "Sample @ step 1:\n",
            "The theorem statesman: this she love, you come, I thank you are loved;\n",
            "I am art ell accompanied himselves to heaven wi\n",
            "\n"
          ]
        },
        {
          "output_type": "stream",
          "name": "stderr",
          "text": [
            " 24%|██▍       | 49/200 [00:33<00:23,  6.50it/s]"
          ]
        },
        {
          "output_type": "stream",
          "name": "stdout",
          "text": [
            "Step 50: eval loss = 1.9361\n"
          ]
        },
        {
          "output_type": "stream",
          "name": "stderr",
          "text": [
            " 26%|██▌       | 51/200 [01:00<14:02,  5.65s/it]"
          ]
        },
        {
          "output_type": "stream",
          "name": "stdout",
          "text": [
            "Sample @ step 50:\n",
            "The theorem states and deserve a fortuned that words the compossitinged sends the enemy be well as the sister the brai\n",
            "\n"
          ]
        },
        {
          "output_type": "stream",
          "name": "stderr",
          "text": [
            " 50%|████▉     | 99/200 [01:07<00:12,  7.78it/s]"
          ]
        },
        {
          "output_type": "stream",
          "name": "stdout",
          "text": [
            "Step 100: eval loss = 1.8420\n"
          ]
        },
        {
          "output_type": "stream",
          "name": "stderr",
          "text": [
            " 50%|█████     | 101/200 [01:34<09:26,  5.72s/it]"
          ]
        },
        {
          "output_type": "stream",
          "name": "stdout",
          "text": [
            "Sample @ step 100:\n",
            "The theorem states and it carled the mat-called falls and general if the gentured Grance. \n",
            "'Country, which live is doi\n",
            "\n"
          ]
        },
        {
          "output_type": "stream",
          "name": "stderr",
          "text": [
            " 74%|███████▍  | 149/200 [01:40<00:06,  7.66it/s]"
          ]
        },
        {
          "output_type": "stream",
          "name": "stdout",
          "text": [
            "Step 150: eval loss = 1.7852\n"
          ]
        },
        {
          "output_type": "stream",
          "name": "stderr",
          "text": [
            " 76%|███████▌  | 151/200 [02:07<04:40,  5.73s/it]"
          ]
        },
        {
          "output_type": "stream",
          "name": "stdout",
          "text": [
            "Sample @ step 150:\n",
            "The theorem states are rice or genereting rims in such or more oreuple fora salined to a sorther in sabil.\n",
            "\n",
            "Force wher\n",
            "\n"
          ]
        },
        {
          "output_type": "stream",
          "name": "stderr",
          "text": [
            "100%|█████████▉| 199/200 [02:14<00:00,  7.66it/s]"
          ]
        },
        {
          "output_type": "stream",
          "name": "stdout",
          "text": [
            "Step 200: eval loss = 1.7443\n"
          ]
        },
        {
          "output_type": "stream",
          "name": "stderr",
          "text": [
            "100%|██████████| 200/200 [02:41<00:00,  1.24it/s]"
          ]
        },
        {
          "output_type": "stream",
          "name": "stdout",
          "text": [
            "Sample @ step 200:\n",
            "The theorem states and conject it\n",
            "forse mean a ni\n",
            " proclorian to negly ascall it. At the soveraphes that the bagges th\n",
            "\n"
          ]
        },
        {
          "output_type": "stream",
          "name": "stderr",
          "text": [
            "\n"
          ]
        },
        {
          "output_type": "display_data",
          "data": {
            "text/plain": [
              "<Figure size 640x480 with 1 Axes>"
            ],
            "image/png": "[encoded data removed]"
          },
          "metadata": {}
        }
      ]
    },
    {
      "cell_type": "markdown",
      "id": "de420a16-84f4-40ab-86e5-892c26db36be",
      "metadata": {
        "id": "de420a16-84f4-40ab-86e5-892c26db36be"
      },
      "source": [
        "## **Part 2 Step 3: Few-shot from Earlier Checkpoints**\n",
        "\n",
        "* Repeat Step 2, but start from models that were **not fully trained** on A.\n",
        "* Compare results: does partial training make adaptation easier?"
      ]
    },
    {
      "cell_type": "code",
      "source": [
        "import torch\n",
        "from torch.utils.data import Dataset, DataLoader, Subset\n",
        "from pathlib import Path\n",
        "import random\n",
        "import matplotlib.pyplot as plt\n",
        "from tqdm import trange\n",
        "\n",
        "# -------------------------\n",
        "# Few-shot training & evaluation\n",
        "# -------------------------\n",
        "def few_shot_finetune(A, B, GPT, config, block_size=64, max_iters=200, batch_size=32, eval_interval=50):\n",
        "    device = \"cuda\" if torch.cuda.is_available() else \"cpu\"\n",
        "\n",
        "    # 1. Load pretrained checkpoint (dataset A)\n",
        "    ckpt_path = f\"drive/MyDrive/checkpoints/{A}/iter_4000.pt\"\n",
        "    ckpt = torch.load(ckpt_path, map_location=\"cpu\")\n",
        "\n",
        "    # 2. Build model with A’s vocab size\n",
        "    config.vocab_size = len(ckpt[\"stoi\"])\n",
        "    model = GPT(config).to(device)\n",
        "    model.load_state_dict(ckpt[\"model_state\"])\n",
        "    model.train()\n",
        "\n",
        "    optimizer = torch.optim.AdamW(model.parameters(), lr=1e-4)\n",
        "\n",
        "    # 3. Load dataset B, reusing A’s vocab\n",
        "    text_B = Path(f\"data/{B}.txt\").read_text(encoding=\"utf-8\", errors=\"ignore\")\n",
        "    dataset_B = CharDataset(text_B, block_size=block_size, stoi=ckpt[\"stoi\"], itos=ckpt[\"itos\"])\n",
        "    loader_B = DataLoader(dataset_B, batch_size=batch_size, shuffle=True)\n",
        "\n",
        "    # Subset (1%) for evaluation\n",
        "    subset_size = max(1, len(dataset_B) // 100)\n",
        "    subset_indices = random.sample(range(len(dataset_B)), subset_size)\n",
        "    eval_subset = Subset(dataset_B, subset_indices)\n",
        "    eval_loader = DataLoader(eval_subset, batch_size=batch_size)\n",
        "\n",
        "    eval_losses, eval_steps = [], []\n",
        "\n",
        "    # 4. Fine-tuning loop\n",
        "    for step, (x, y) in zip(trange(max_iters), loader_B):\n",
        "        x, y = x.to(device), y.to(device)\n",
        "        logits, loss = model(x, y)\n",
        "        optimizer.zero_grad(set_to_none=True)\n",
        "        loss.backward()\n",
        "        optimizer.step()\n",
        "\n",
        "        # Evaluate\n",
        "        if (step + 1) % eval_interval == 0 or step == 0:\n",
        "            model.eval()\n",
        "            total_loss, count = 0, 0\n",
        "            with torch.no_grad():\n",
        "                for xb, yb in eval_loader:\n",
        "                    xb, yb = xb.to(device), yb.to(device)\n",
        "                    _, l = model(xb, yb)\n",
        "                    total_loss += l.item() * xb.size(0)\n",
        "                    count += xb.size(0)\n",
        "            avg_loss = total_loss / count\n",
        "            eval_losses.append(avg_loss)\n",
        "            eval_steps.append(step + 1)\n",
        "            print(f\"Step {step+1}: eval loss = {avg_loss:.4f}\")\n",
        "            model.train()\n",
        "\n",
        "            # Save checkpoint\n",
        "            save_path = f\"drive/MyDrive/checkpoints/{A}_{B}_half/{A}_start0_{B}_run{step+1}.pt\"\n",
        "            torch.save({\n",
        "                \"model_state\": model.state_dict(),\n",
        "                \"stoi\": ckpt[\"stoi\"],\n",
        "                \"itos\": ckpt[\"itos\"],\n",
        "                \"losses\": eval_losses\n",
        "            }, save_path)\n",
        "\n",
        "            # Generate sample\n",
        "            prompt = \"The theorem states\"\n",
        "            encoded = torch.tensor([ckpt[\"stoi\"].get(c, 0) for c in prompt], dtype=torch.long).unsqueeze(0).to(device)\n",
        "            out = model.generate(encoded, max_new_tokens=100, temperature=0.8)[0].tolist()\n",
        "            sample = \"\".join([ckpt[\"itos\"].get(i, \"?\") for i in out])\n",
        "            print(f\"Sample @ step {step+1}:\\n{sample}\\n\")\n",
        "\n",
        "    # 5. Plot curve\n",
        "    plt.plot(eval_steps, eval_losses, marker=\"o\")\n",
        "    plt.xlabel(\"Iteration\")\n",
        "    plt.ylabel(f\"Eval Loss on {B} (1%)\")\n",
        "    plt.title(f\"Few-shot Fine-tuning {A} → {B}\")\n",
        "    plt.show()\n",
        "\n",
        "    return eval_steps, eval_losses\n",
        "\n",
        "# Example: fine-tune from Wikipedia → Math\n",
        "steps, losses = few_shot_finetune(\"wikipedia\", \"shakespeare\", GPT, config)\n"
      ],
      "metadata": {
        "colab": {
          "base_uri": "https://localhost:8080/",
          "height": 1000
        },
        "id": "x69TcDwedooi",
        "outputId": "775c4d2f-92b0-4e75-b9c1-b7cf61debba0"
      },
      "id": "x69TcDwedooi",
      "execution_count": null,
      "outputs": [
        {
          "output_type": "stream",
          "name": "stdout",
          "text": [
            "number of parameters: 0.43M\n"
          ]
        },
        {
          "output_type": "stream",
          "name": "stderr",
          "text": [
            "\r  0%|          | 0/200 [00:00<?, ?it/s]"
          ]
        },
        {
          "output_type": "stream",
          "name": "stdout",
          "text": [
            "Step 1: eval loss = 2.4802\n"
          ]
        },
        {
          "output_type": "stream",
          "name": "stderr",
          "text": [
            "  1%|          | 2/200 [00:17<23:30,  7.13s/it]"
          ]
        },
        {
          "output_type": "stream",
          "name": "stdout",
          "text": [
            "Sample @ step 1:\n",
            "The theorem states the stopped and specifical members the person is the Empire, Taniin church and Munist New York in A\n",
            "\n"
          ]
        },
        {
          "output_type": "stream",
          "name": "stderr",
          "text": [
            " 24%|██▍       | 49/200 [00:24<00:31,  4.80it/s]"
          ]
        },
        {
          "output_type": "stream",
          "name": "stdout",
          "text": [
            "Step 50: eval loss = 2.0465\n"
          ]
        },
        {
          "output_type": "stream",
          "name": "stderr",
          "text": [
            " 26%|██▌       | 51/200 [00:42<09:36,  3.87s/it]"
          ]
        },
        {
          "output_type": "stream",
          "name": "stdout",
          "text": [
            "Sample @ step 50:\n",
            "The theorem states, manning to be their at tensult.\n",
            "\n",
            "Which adomities shaloud had the wast the slose informent, after t\n",
            "\n"
          ]
        },
        {
          "output_type": "stream",
          "name": "stderr",
          "text": [
            " 50%|████▉     | 99/200 [00:48<00:14,  6.94it/s]"
          ]
        },
        {
          "output_type": "stream",
          "name": "stdout",
          "text": [
            "Step 100: eval loss = 1.9349\n"
          ]
        },
        {
          "output_type": "stream",
          "name": "stderr",
          "text": [
            "\r 50%|█████     | 100/200 [01:06<08:59,  5.40s/it]"
          ]
        },
        {
          "output_type": "stream",
          "name": "stdout",
          "text": [
            "Sample @ step 100:\n",
            "The theorem statest after the four to the struck's language in Earth.\n",
            "\n",
            "And the cast BEO:\n",
            "A can a ship,\n",
            "In doest listed\n",
            "\n"
          ]
        },
        {
          "output_type": "stream",
          "name": "stderr",
          "text": [
            " 74%|███████▍  | 149/200 [01:13<00:07,  7.16it/s]"
          ]
        },
        {
          "output_type": "stream",
          "name": "stdout",
          "text": [
            "Step 150: eval loss = 1.8716\n"
          ]
        },
        {
          "output_type": "stream",
          "name": "stderr",
          "text": [
            " 76%|███████▌  | 151/200 [01:30<03:00,  3.69s/it]"
          ]
        },
        {
          "output_type": "stream",
          "name": "stdout",
          "text": [
            "Sample @ step 150:\n",
            "The theorem states.\n",
            "The leves, she math, and your\n",
            "compet how angel tree major down:\n",
            "On Endey;\n",
            "The matter inside steal \n",
            "\n"
          ]
        },
        {
          "output_type": "stream",
          "name": "stderr",
          "text": [
            "100%|█████████▉| 199/200 [01:38<00:00,  7.08it/s]"
          ]
        },
        {
          "output_type": "stream",
          "name": "stdout",
          "text": [
            "Step 200: eval loss = 1.8295\n"
          ]
        },
        {
          "output_type": "stream",
          "name": "stderr",
          "text": [
            "100%|██████████| 200/200 [01:55<00:00,  1.73it/s]"
          ]
        },
        {
          "output_type": "stream",
          "name": "stdout",
          "text": [
            "Sample @ step 200:\n",
            "The theorem states in become from the extence to him from him,\n",
            "For those from thy carroude thou we confort, strance.\n",
            "\n",
            "\n",
            "\n"
          ]
        },
        {
          "output_type": "stream",
          "name": "stderr",
          "text": [
            "\n"
          ]
        },
        {
          "output_type": "display_data",
          "data": {
            "text/plain": [
              "<Figure size 640x480 with 1 Axes>"
            ],
            "image/png": "[encoded data removed]"
          },
          "metadata": {}
        }
      ]
    },
    {
      "cell_type": "markdown",
      "id": "f07141a0-4421-45f5-ad55-fc45a3c51d0a",
      "metadata": {
        "id": "f07141a0-4421-45f5-ad55-fc45a3c51d0a"
      },
      "source": [
        "### **Deliverables**\n",
        "\n",
        "* **Tables**: Zero-shot loss values (3×3).\n",
        "* **Plots**: Few-shot loss curves (per experiment).\n",
        "* **Samples**: Generated text at selected iterations.\n",
        "* **Discussion**: Briefly how to structure their zero-shot results?\n"
      ]
    },
    {
      "cell_type": "markdown",
      "id": "69c77a2a-156f-465c-aa62-6fb4f8539206",
      "metadata": {
        "id": "69c77a2a-156f-465c-aa62-6fb4f8539206"
      },
      "source": [
        "## **Part 3 – Inspecting the Softmax Output Layer**\n",
        "\n",
        "In this part, you will explore how the model’s **output probabilities** evolve during training for different prompts.\n",
        "\n",
        "### **What to Do**\n",
        "\n",
        "* Choose **several prompts** (at least 2–3) that differ in domain and style (e.g., math expressions, natural language, biology terms).\n",
        "* For each prompt, extract at each checkpoint:\n",
        "\n",
        "  * The **softmax probability distribution** over the vocabulary.\n",
        "  * The **entropy** of the distribution (a measure of model confidence/uncertainty).\n",
        "* Plot the **trajectories of top candidate tokens** over checkpoints for each prompt.\n",
        "\n",
        "### **What to Look For**\n",
        "\n",
        "* **Predictability & Hardening**\n",
        "\n",
        "  * Does the distribution concentrate (one token dominates) as training progresses?\n",
        "  * Are some prompts much more predictable than others?\n",
        "\n",
        "* **Entropy & Uncertainty**\n",
        "\n",
        "  * Compare entropy across prompts.\n",
        "  * Do in-domain prompts (e.g., math-related text) produce sharper, lower-entropy distributions?\n",
        "  * Do out-of-domain prompts produce flatter, high-entropy distributions?\n",
        "\n",
        "* **Biases in Token Predictions**\n",
        "\n",
        "  * Are certain tokens consistently high-probability regardless of prompt?\n",
        "  * Do different prompts encourage different sets of top tokens?\n",
        "\n",
        "### **What to Report**\n",
        "\n",
        "* Provide **plots** for each prompt.\n",
        "* Give a **written description** of what you observe:\n",
        "\n",
        "  * Where do probabilities harden?\n",
        "  * Where do they remain diffuse?\n",
        "  * How does this match your expectations about the model’s training data?\n",
        "* Discuss what your findings imply about the model’s **predictability and specialization**.\n"
      ]
    },
    {
      "cell_type": "code",
      "source": [
        "import torch\n",
        "import torch.nn.functional as F\n",
        "import matplotlib.pyplot as plt\n",
        "import numpy as np\n",
        "\n",
        "# ---------- CONFIG ----------\n",
        "prompt = \"The integral of x^2 is\"\n",
        "# prompt = \"In biology, mitochondria are\"\n",
        "# prompt = \"Once upon a time\"\n",
        "\n",
        "checkpoints_dir = \"drive/MyDrive/checkpoints/wikipedia\"\n",
        "n_checkpoints = 51\n",
        "chosen_idxs = [\"0\", \"1000\", \"2000\", \"3500\", \"5000\"]   # which checkpoints to visualize\n",
        "steps = 3                           # how many autoregressive steps\n",
        "topk = 7                            # how many top tokens to display\n",
        "\n",
        "# ---------- HELPERS ----------\n",
        "def encode(s, stoi):\n",
        "    return torch.tensor([[stoi.get(ch, 0) for ch in s]], dtype=torch.long)\n",
        "\n",
        "def get_multi_step_softmax(model, prompt_ids, steps):\n",
        "    \"\"\"\n",
        "    Runs the model for multiple autoregressive steps, returns probability arrays per step.\n",
        "    \"\"\"\n",
        "    all_probs = []\n",
        "    input_ids = prompt_ids.clone()\n",
        "\n",
        "    for _ in range(steps):\n",
        "        with torch.no_grad():\n",
        "            logits = model(input_ids)\n",
        "            if isinstance(logits, tuple):\n",
        "                logits = logits[0]\n",
        "\n",
        "        # last-token logits\n",
        "        last_logits = logits[:, -1, :].squeeze(0)\n",
        "        probs = F.softmax(last_logits, dim=-1).cpu().numpy().flatten()\n",
        "        all_probs.append(probs)\n",
        "\n",
        "        # greedy decode\n",
        "        next_token = torch.tensor([[np.argmax(probs)]])\n",
        "        input_ids = torch.cat([input_ids, next_token], dim=1)\n",
        "\n",
        "    return all_probs\n",
        "\n",
        "def entropy_from_probs(probs):\n",
        "    return -np.sum(probs * np.log(probs + 1e-12))\n",
        "\n",
        "def plot_multi_step_softmax(probs_list, itos, ckpt_idx, steps=3, topk=7):\n",
        "    plt.figure(figsize=(10,6))\n",
        "    colors = [\"red\", \"blue\", \"green\"]\n",
        "\n",
        "    all_chars = []\n",
        "    all_probs = []\n",
        "    all_colors = []\n",
        "\n",
        "    for step, probs in enumerate(probs_list):\n",
        "        top_idx = np.argsort(probs)[-topk:][::-1]\n",
        "        top_probs = probs[top_idx]\n",
        "        top_chars = [repr(itos[i]) for i in top_idx]\n",
        "\n",
        "        all_chars.extend([f\"{c}\" for c in top_chars])\n",
        "        all_probs.extend(top_probs)\n",
        "        all_colors.extend([colors[step % len(colors)]] * len(top_chars))\n",
        "\n",
        "    x = np.arange(len(all_chars))\n",
        "    plt.bar(x, all_probs, color=all_colors, alpha=0.7)\n",
        "    plt.xticks(x, all_chars, rotation=45, ha=\"right\")\n",
        "\n",
        "    plt.title(f\"Top-{topk} Softmax Distributions at Checkpoint {ckpt_idx}\")\n",
        "    plt.ylabel(\"Probability\")\n",
        "    plt.xlabel(\"Character (grouped by step)\")\n",
        "    plt.tight_layout()\n",
        "    plt.show()\n",
        "\n",
        "\n",
        "\n",
        "# ---------- MAIN ----------\n",
        "all_entropies = []\n",
        "stoi, itos = None, None\n",
        "\n",
        "for ckpt_idx in range(0,5001,100):\n",
        "    ckpt_path = f\"{checkpoints_dir}/iter_{ckpt_idx}.pt\"\n",
        "    ckpt = torch.load(ckpt_path, map_location=\"cpu\")\n",
        "\n",
        "    # Restore vocab\n",
        "    if stoi is None:\n",
        "        stoi, itos = ckpt[\"stoi\"], ckpt[\"itos\"]\n",
        "\n",
        "    # Build model with correct vocab size\n",
        "    vocab_size = len(stoi)\n",
        "    config = GPTConfig(vocab_size=vocab_size,block_size=64)\n",
        "    model = GPT(config)\n",
        "    model.load_state_dict(ckpt[\"model_state\"])\n",
        "    model.eval()\n",
        "\n",
        "    # Encode prompt\n",
        "    prompt_ids = encode(prompt, stoi)\n",
        "\n",
        "    # Multi-step softmax distributions\n",
        "    probs_list = get_multi_step_softmax(model, prompt_ids, steps=steps)\n",
        "\n",
        "    # Record entropy of first-step distribution\n",
        "    all_entropies.append(entropy_from_probs(probs_list[0]))\n",
        "\n",
        "    # Plot selected checkpoints\n",
        "    if str(ckpt_idx) in chosen_idxs:\n",
        "        plot_multi_step_softmax(probs_list, itos, ckpt_idx, steps=steps, topk=topk)\n",
        "\n",
        "# ---------- ENTROPY PLOT ----------\n",
        "plt.figure(figsize=(8,5))\n",
        "plt.plot(range(0,5001,100), all_entropies, marker=\"o\")\n",
        "plt.title(\"Entropy across checkpoints (Step 1 only)\")\n",
        "plt.xlabel(\"Checkpoint\")\n",
        "plt.ylabel(\"Entropy\")\n",
        "plt.grid(True)\n",
        "plt.show()\n"
      ],
      "metadata": {
        "id": "merkPz3dpX9e",
        "colab": {
          "base_uri": "https://localhost:8080/",
          "height": 1000
        },
        "outputId": "289ae5e0-65c3-4001-b101-e98e79b2e990"
      },
      "id": "merkPz3dpX9e",
      "execution_count": null,
      "outputs": [
        {
          "output_type": "stream",
          "name": "stdout",
          "text": [
            "number of parameters: 0.43M\n"
          ]
        },
        {
          "output_type": "stream",
          "name": "stderr",
          "text": [
            "/tmp/ipython-input-923744745.py:72: UserWarning: Glyph 32291 (\\N{CJK UNIFIED IDEOGRAPH-7E23}) missing from font(s) DejaVu Sans.\n",
            "  plt.tight_layout()\n",
            "/usr/local/lib/python3.12/dist-packages/IPython/core/pylabtools.py:151: UserWarning: Glyph 32291 (\\N{CJK UNIFIED IDEOGRAPH-7E23}) missing from font(s) DejaVu Sans.\n",
            "  fig.canvas.print_figure(bytes_io, **kw)\n"
          ]
        },
        {
          "output_type": "display_data",
          "data": {
            "text/plain": [
              "<Figure size 1000x600 with 1 Axes>"
            ],
            "image/png": "[encoded data removed]"
          },
          "metadata": {}
        },
        {
          "output_type": "stream",
          "name": "stdout",
          "text": [
            "number of parameters: 0.43M\n",
            "number of parameters: 0.43M\n",
            "number of parameters: 0.43M\n",
            "number of parameters: 0.43M\n",
            "number of parameters: 0.43M\n",
            "number of parameters: 0.43M\n",
            "number of parameters: 0.43M\n",
            "number of parameters: 0.43M\n",
            "number of parameters: 0.43M\n",
            "number of parameters: 0.43M\n"
          ]
        },
        {
          "output_type": "display_data",
          "data": {
            "text/plain": [
              "<Figure size 1000x600 with 1 Axes>"
            ],
            "image/png": "[encoded data removed]"
          },
          "metadata": {}
        },
        {
          "output_type": "stream",
          "name": "stdout",
          "text": [
            "number of parameters: 0.43M\n",
            "number of parameters: 0.43M\n",
            "number of parameters: 0.43M\n",
            "number of parameters: 0.43M\n",
            "number of parameters: 0.43M\n",
            "number of parameters: 0.43M\n",
            "number of parameters: 0.43M\n",
            "number of parameters: 0.43M\n",
            "number of parameters: 0.43M\n",
            "number of parameters: 0.43M\n"
          ]
        },
        {
          "output_type": "display_data",
          "data": {
            "text/plain": [
              "<Figure size 1000x600 with 1 Axes>"
            ],
            "image/png": "[encoded data removed]"
          },
          "metadata": {}
        },
        {
          "output_type": "stream",
          "name": "stdout",
          "text": [
            "number of parameters: 0.43M\n",
            "number of parameters: 0.43M\n",
            "number of parameters: 0.43M\n",
            "number of parameters: 0.43M\n",
            "number of parameters: 0.43M\n",
            "number of parameters: 0.43M\n",
            "number of parameters: 0.43M\n",
            "number of parameters: 0.43M\n",
            "number of parameters: 0.43M\n",
            "number of parameters: 0.43M\n",
            "number of parameters: 0.43M\n",
            "number of parameters: 0.43M\n",
            "number of parameters: 0.43M\n",
            "number of parameters: 0.43M\n",
            "number of parameters: 0.43M\n"
          ]
        },
        {
          "output_type": "display_data",
          "data": {
            "text/plain": [
              "<Figure size 1000x600 with 1 Axes>"
            ],
            "image/png": "[encoded data removed]"
          },
          "metadata": {}
        },
        {
          "output_type": "stream",
          "name": "stdout",
          "text": [
            "number of parameters: 0.43M\n",
            "number of parameters: 0.43M\n",
            "number of parameters: 0.43M\n",
            "number of parameters: 0.43M\n",
            "number of parameters: 0.43M\n",
            "number of parameters: 0.43M\n",
            "number of parameters: 0.43M\n",
            "number of parameters: 0.43M\n",
            "number of parameters: 0.43M\n",
            "number of parameters: 0.43M\n",
            "number of parameters: 0.43M\n",
            "number of parameters: 0.43M\n",
            "number of parameters: 0.43M\n",
            "number of parameters: 0.43M\n",
            "number of parameters: 0.43M\n"
          ]
        },
        {
          "output_type": "display_data",
          "data": {
            "text/plain": [
              "<Figure size 1000x600 with 1 Axes>"
            ],
            "image/png": "[encoded data removed]"
          },
          "metadata": {}
        },
        {
          "output_type": "display_data",
          "data": {
            "text/plain": [
              "<Figure size 800x500 with 1 Axes>"
            ],
            "image/png": "[encoded data removed]"
          },
          "metadata": {}
        }
      ]
    },
    {
      "cell_type": "code",
      "source": [
        "import torch\n",
        "import torch.nn.functional as F\n",
        "import matplotlib.pyplot as plt\n",
        "import numpy as np\n",
        "\n",
        "# ---------- CONFIG ----------\n",
        "# prompt = \"The integral of x^2 is\"\n",
        "# prompt = \"In biology, mitochondria are\"\n",
        "prompt = \"Once upon a time\"\n",
        "checkpoints_dir = \"drive/MyDrive/checkpoints/shakespeare\"\n",
        "n_checkpoints = 51\n",
        "gen_len = 20   # how many characters to generate\n",
        "\n",
        "# ---------- HELPERS ----------\n",
        "def encode(s, stoi):\n",
        "    return torch.tensor([[stoi.get(ch, 0) for ch in s]], dtype=torch.long)\n",
        "\n",
        "def compute_avg_entropy(model, prompt_ids, gen_len):\n",
        "    \"\"\"\n",
        "    Generate gen_len characters and compute average entropy over steps.\n",
        "    \"\"\"\n",
        "    input_ids = prompt_ids.clone()\n",
        "    entropies = []\n",
        "\n",
        "    for _ in range(gen_len):\n",
        "        with torch.no_grad():\n",
        "            logits = model(input_ids)\n",
        "            if isinstance(logits, tuple):\n",
        "                logits = logits[0]\n",
        "\n",
        "        last_logits = logits[:, -1, :].squeeze(0)\n",
        "        probs = F.softmax(last_logits, dim=-1).cpu().numpy().flatten()\n",
        "        entropy = -np.sum(probs * np.log(probs + 1e-12))\n",
        "        entropies.append(entropy)\n",
        "\n",
        "        # greedy decode: feed back argmax\n",
        "        next_token = torch.tensor([[np.argmax(probs)]])\n",
        "        input_ids = torch.cat([input_ids, next_token], dim=1)\n",
        "\n",
        "    return np.mean(entropies)\n",
        "\n",
        "# ---------- MAIN ----------\n",
        "stoi, itos = None, None\n",
        "avg_entropies = []\n",
        "\n",
        "for ckpt_idx in range(0,5001,100):\n",
        "    ckpt_path = f\"{checkpoints_dir}/iter_{ckpt_idx}.pt\"\n",
        "    ckpt = torch.load(ckpt_path, map_location=\"cpu\")\n",
        "\n",
        "    # Restore vocab\n",
        "    if stoi is None:\n",
        "        stoi, itos = ckpt[\"stoi\"], ckpt[\"itos\"]\n",
        "\n",
        "    # Build model\n",
        "    vocab_size = len(stoi)\n",
        "    config = GPTConfig(vocab_size=vocab_size,block_size=64)\n",
        "    model = GPT(config)\n",
        "    model.load_state_dict(ckpt[\"model_state\"])\n",
        "    model.eval()\n",
        "\n",
        "    # Encode prompt\n",
        "    prompt_ids = encode(prompt, stoi)\n",
        "\n",
        "    # Compute average entropy for 100 generated characters\n",
        "    avg_entropy = compute_avg_entropy(model, prompt_ids, gen_len)\n",
        "    avg_entropies.append(avg_entropy)\n",
        "\n",
        "# ---------- PLOT ----------\n",
        "plt.figure(figsize=(8,5))\n",
        "plt.plot(range(0,5001,100), avg_entropies, marker=\"o\")\n",
        "plt.title(f\"Average Entropy across Checkpoints\\n(prompt: {prompt!r}, gen_len={gen_len})\")\n",
        "plt.xlabel(\"Checkpoint\")\n",
        "plt.ylabel(\"Average Entropy\")\n",
        "plt.grid(True)\n",
        "plt.show()\n"
      ],
      "metadata": {
        "colab": {
          "base_uri": "https://localhost:8080/",
          "height": 1000
        },
        "id": "1jIgKKVWLkSw",
        "outputId": "fb227488-a653-4670-e0ba-5baf704238e0"
      },
      "id": "1jIgKKVWLkSw",
      "execution_count": null,
      "outputs": [
        {
          "output_type": "stream",
          "name": "stdout",
          "text": [
            "number of parameters: 0.41M\n",
            "number of parameters: 0.41M\n",
            "number of parameters: 0.41M\n",
            "number of parameters: 0.41M\n",
            "number of parameters: 0.41M\n",
            "number of parameters: 0.41M\n",
            "number of parameters: 0.41M\n",
            "number of parameters: 0.41M\n",
            "number of parameters: 0.41M\n",
            "number of parameters: 0.41M\n",
            "number of parameters: 0.41M\n",
            "number of parameters: 0.41M\n",
            "number of parameters: 0.41M\n",
            "number of parameters: 0.41M\n",
            "number of parameters: 0.41M\n",
            "number of parameters: 0.41M\n",
            "number of parameters: 0.41M\n",
            "number of parameters: 0.41M\n",
            "number of parameters: 0.41M\n",
            "number of parameters: 0.41M\n",
            "number of parameters: 0.41M\n",
            "number of parameters: 0.41M\n",
            "number of parameters: 0.41M\n",
            "number of parameters: 0.41M\n",
            "number of parameters: 0.41M\n",
            "number of parameters: 0.41M\n",
            "number of parameters: 0.41M\n",
            "number of parameters: 0.41M\n",
            "number of parameters: 0.41M\n",
            "number of parameters: 0.41M\n",
            "number of parameters: 0.41M\n",
            "number of parameters: 0.41M\n",
            "number of parameters: 0.41M\n",
            "number of parameters: 0.41M\n",
            "number of parameters: 0.41M\n",
            "number of parameters: 0.41M\n",
            "number of parameters: 0.41M\n",
            "number of parameters: 0.41M\n",
            "number of parameters: 0.41M\n",
            "number of parameters: 0.41M\n",
            "number of parameters: 0.41M\n",
            "number of parameters: 0.41M\n",
            "number of parameters: 0.41M\n",
            "number of parameters: 0.41M\n",
            "number of parameters: 0.41M\n",
            "number of parameters: 0.41M\n",
            "number of parameters: 0.41M\n",
            "number of parameters: 0.41M\n",
            "number of parameters: 0.41M\n",
            "number of parameters: 0.41M\n",
            "number of parameters: 0.41M\n"
          ]
        },
        {
          "output_type": "display_data",
          "data": {
            "text/plain": [
              "<Figure size 800x500 with 1 Axes>"
            ],
            "image/png": "[encoded data removed]"
          },
          "metadata": {}
        }
      ]
    },
    {
      "cell_type": "code",
      "execution_count": null,
      "id": "9a635301-0f10-4af1-b4d4-fbe539ed8ad3",
      "metadata": {
        "id": "9a635301-0f10-4af1-b4d4-fbe539ed8ad3"
      },
      "outputs": [],
      "source": [
        "import torch\n",
        "import torch.nn.functional as F\n",
        "import os\n",
        "import matplotlib.pyplot as plt\n",
        "os.environ[\"KMP_DUPLICATE_LIB_OK\"] = \"TRUE\"\n",
        "\n",
        "def load_model(ckpt_path,  GPT):\n",
        "    ckpt = torch.load(ckpt_path, map_location=\"cpu\")\n",
        "    config = type(\"GPTConfig\", (), ckpt[\"config\"])\n",
        "    stoi, itos = ckpt[\"stoi\"], ckpt[\"itos\"]\n",
        "    config.vocab_size = len(stoi)\n",
        "    model = GPT(config)\n",
        "    model.load_state_dict(ckpt[\"model_state\"])\n",
        "    return model, stoi, itos\n",
        "\n",
        "def inspect_softmax(model, prompt, stoi, itos, top_k=10):\n",
        "    # pick a fallback index if <unk> not in vocab\n",
        "    unk_idx = stoi.get(\"<unk>\", next(iter(stoi.values())))\n",
        "\n",
        "    x = torch.tensor([[stoi.get(c, unk_idx) for c in prompt]], dtype=torch.long)\n",
        "    with torch.no_grad():\n",
        "        probs = F.softmax(model(x)[0][:, -1, :], dim=-1).squeeze()\n",
        "    entropy = -(probs * torch.log(probs + 1e-12)).sum().item()\n",
        "    top_p, top_i = torch.topk(probs, top_k)\n",
        "    return {\n",
        "        \"prompt\": prompt,\n",
        "        \"entropy\": entropy,\n",
        "        \"probs\": [(itos[i.item()], p.item()) for i, p in zip(top_i, top_p)]\n",
        "    }\n"
      ]
    },
    {
      "cell_type": "markdown",
      "id": "3aae446e-4e9c-491f-b0d9-02d85638d2c2",
      "metadata": {
        "id": "3aae446e-4e9c-491f-b0d9-02d85638d2c2"
      },
      "source": [
        "\n",
        "## **Part 4 – Grad-CAM for Language Models**\n",
        "\n",
        "In this part, you’ll build a lightweight version of *Grad-CAM* for a language model. Instead of visualizing gradients in images, we’ll look at how gradients flow into **token embeddings** to measure which input tokens most affect a model’s probability of generating a target token.\n",
        "\n",
        "### **Steps**\n",
        "\n",
        "1. **Compute gradients**\n",
        "\n",
        "   * Use the provided `token_gradients` function.\n",
        "   * This function backpropagates from the probability of a **target token** (e.g., `\"e\"`) back to the input embeddings.\n",
        "   * For each input token, it returns the gradient norm, which indicates **how much changing that token would affect the prediction**.\n",
        "\n",
        "2. **Experiment with checkpoints**\n",
        "\n",
        "   * Run the method across checkpoints of your trained model (e.g., every 100 iterations).\n",
        "   * Track how gradient importance changes over time.\n",
        "   * Try different prompts and different target tokens.\n",
        "\n",
        "3. **Compare across models**\n",
        "\n",
        "   * Run the same analysis on domain-trained models (e.g., trained on Wikipedia vs. math text).\n",
        "   * Compare: Do the same tokens consistently drive predictions? Or do models in different domains “care” about different tokens?\n",
        "\n",
        "\n",
        "### **Discussion Questions**\n",
        "\n",
        "1. **Character influence:**\n",
        "   Which characters consistently receive the highest gradient norms? Are they vowels, consonants, punctuation, or digits? Do frequent letters (like “e”) dominate, or do rare characters sometimes matter more?\n",
        "2. **Checkpoint dynamics:**\n",
        "   How does the distribution of influential tokens change as training progresses? Does the model become more focused or more diffuse?\n",
        "3. **Domain differences:**\n",
        "   Compare results from different domain-trained models. Do Wikipedia-trained models rely more on content words, while math-trained ones emphasize structure/symbols?\n",
        "4. **Zero-shot vs few-shot:**\n",
        "   If you add example completions to the prompt (few-shot), how does the gradient map shift compared to zero-shot?\n",
        "5. **Interpretability limits:**\n",
        "   What are the limitations of gradient-based methods? Do high gradient norms always mean high “importance”? When might this method be misleading?\n",
        "  \n"
      ]
    },
    {
      "cell_type": "code",
      "execution_count": null,
      "id": "27d340b4-7717-4a4f-a38f-b22f3458a942",
      "metadata": {
        "id": "27d340b4-7717-4a4f-a38f-b22f3458a942",
        "colab": {
          "base_uri": "https://localhost:8080/",
          "height": 794
        },
        "outputId": "eed112e1-6cf5-4f69-ea30-d5b88f12127d"
      },
      "outputs": [
        {
          "output_type": "stream",
          "name": "stdout",
          "text": [
            "number of parameters: 0.41M\n",
            "number of parameters: 0.41M\n",
            "number of parameters: 0.41M\n",
            "number of parameters: 0.41M\n",
            "number of parameters: 0.41M\n",
            "number of parameters: 0.41M\n",
            "number of parameters: 0.41M\n",
            "number of parameters: 0.41M\n",
            "number of parameters: 0.41M\n",
            "number of parameters: 0.41M\n",
            "number of parameters: 0.41M\n"
          ]
        },
        {
          "output_type": "display_data",
          "data": {
            "text/plain": [
              "<Figure size 1200x600 with 1 Axes>"
            ],
            "image/png": "[encoded data removed]"
          },
          "metadata": {}
        }
      ],
      "source": [
        "import torch\n",
        "import torch.nn.functional as F\n",
        "import matplotlib.pyplot as plt\n",
        "import numpy as np\n",
        "\n",
        "def token_gradients(model, prompt, target_token, stoi, itos):\n",
        "    \"\"\"\n",
        "    Compute gradient norms per input token wrt probability of `target_token`.\n",
        "    \"\"\"\n",
        "    model.eval()\n",
        "    x = torch.tensor([stoi[c] for c in prompt], dtype=torch.long)[None, :]\n",
        "\n",
        "    grads = {}\n",
        "\n",
        "    def save_grad(module, inp, out):\n",
        "        out.retain_grad()\n",
        "        grads['emb'] = out\n",
        "\n",
        "    handle = model.transformer.wte.register_forward_hook(save_grad)\n",
        "\n",
        "    # Forward pass\n",
        "    logits, _ = model(x)\n",
        "    last_logits = logits[:, -1, :]   # [B, vocab]\n",
        "\n",
        "    target_idx = stoi.get(target_token, None)\n",
        "    if target_idx is None:\n",
        "        raise ValueError(f\"Token {target_token!r} not in vocab\")\n",
        "\n",
        "    probs = F.softmax(last_logits, dim=-1)\n",
        "    target_prob = probs[0, target_idx]\n",
        "\n",
        "    # Backprop\n",
        "    model.zero_grad(set_to_none=True)\n",
        "    target_prob.backward()\n",
        "\n",
        "    grad_norms = grads['emb'].grad[0].norm(dim=-1)  # [T]\n",
        "    tokens = [repr(itos[i.item()]) for i in x[0]]   # use repr here!\n",
        "\n",
        "    handle.remove()\n",
        "    return list(zip(tokens, grad_norms.tolist()))\n",
        "\n",
        "# ---------- Example Loop over checkpoints ----------\n",
        "checkpoints_dir = \"drive/MyDrive/checkpoints/shakespeare\"\n",
        "# prompt = \"The integral of x^2 is\"\n",
        "# prompt = \"In biology, mitochondria are\"\n",
        "prompt = \"Once upon a time\"\n",
        "# target_token = \"x\"\n",
        "# target_token = \"p\"\n",
        "target_token = \"a\"\n",
        "\n",
        "grad_history = []\n",
        "\n",
        "for ckpt_idx in range(0, 5001, 500):  # every 100th checkpoint\n",
        "    ckpt = torch.load(f\"{checkpoints_dir}/iter_{ckpt_idx}.pt\", map_location=\"cpu\")\n",
        "\n",
        "    stoi, itos = ckpt[\"stoi\"], ckpt[\"itos\"]\n",
        "    vocab_size = len(stoi)\n",
        "\n",
        "    config = GPTConfig(vocab_size=vocab_size, block_size=64)\n",
        "    model = GPT(config)\n",
        "    model.load_state_dict(ckpt[\"model_state\"])\n",
        "    model.eval()\n",
        "\n",
        "    grads = token_gradients(model, prompt, target_token, stoi, itos)\n",
        "    grad_history.append((ckpt_idx, grads))\n",
        "\n",
        "# ---------- Visualization ----------\n",
        "n_checkpoints = len(grad_history)\n",
        "bar_width = 0.15  # width of each checkpoint bar\n",
        "\n",
        "tokens = [tok for tok, _ in grad_history[0][1]]\n",
        "x = np.arange(len(tokens))\n",
        "\n",
        "plt.figure(figsize=(12, 6))\n",
        "for i, (ckpt_idx, grads) in enumerate(grad_history):\n",
        "    _, values = zip(*grads)\n",
        "    plt.bar(x + i*bar_width, values, width=bar_width, label=f\"iter {ckpt_idx}\")\n",
        "\n",
        "plt.xticks(x + (n_checkpoints-1)*bar_width/2, tokens, rotation=45)\n",
        "plt.title(f\"Token Gradient Norms wrt '{target_token}'\")\n",
        "plt.xlabel(\"Input Tokens\")\n",
        "plt.ylabel(\"Gradient Norm\")\n",
        "plt.legend()\n",
        "plt.tight_layout()\n",
        "plt.show()\n"
      ]
    },
    {
      "cell_type": "raw",
      "id": "ce1fb3a9-7937-4fb3-a1e6-480388629a56",
      "metadata": {
        "id": "ce1fb3a9-7937-4fb3-a1e6-480388629a56"
      },
      "source": []
    }
  ],
  "metadata": {
    "kernelspec": {
      "display_name": "Python 3",
      "name": "python3"
    },
    "language_info": {
      "codemirror_mode": {
        "name": "ipython",
        "version": 3
      },
      "file_extension": ".py",
      "mimetype": "text/x-python",
      "name": "python",
      "nbconvert_exporter": "python",
      "pygments_lexer": "ipython3",
      "version": "3.9.12"
    },
    "colab": {
      "provenance": []
    }
  },
  "nbformat": 4,
  "nbformat_minor": 5
}